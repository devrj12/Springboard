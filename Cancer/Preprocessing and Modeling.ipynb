{
 "cells": [
  {
   "cell_type": "markdown",
   "id": "22f99e45",
   "metadata": {},
   "source": [
    "# Data Preprocessing"
   ]
  },
  {
   "cell_type": "code",
   "execution_count": 1,
   "id": "c95b7f28",
   "metadata": {},
   "outputs": [],
   "source": [
    "import os\n",
    "import pandas as pd\n",
    "import numpy as np\n",
    "import matplotlib.pylab as plt\n",
    "import seaborn as sns\n",
    "\n",
    "from sklearn.model_selection import KFold, cross_val_score, train_test_split\n",
    "\n",
    "from sklearn.neighbors import KNeighborsClassifier     #KNN\n",
    "from sklearn.linear_model import LogisticRegression    #Logistic Regression\n",
    "from sklearn.tree import DecisionTreeClassifier        #Decision Tree\n",
    "from sklearn.ensemble import RandomForestClassifier    #Random Forest\n",
    "from sklearn.neural_network import MLPClassifier       #Neural Network\n",
    "from sklearn.svm import SVC                            #SVM\n",
    "from sklearn.metrics import classification_report, confusion_matrix\n",
    "from sklearn.model_selection import GridSearchCV, cross_val_score"
   ]
  },
  {
   "cell_type": "code",
   "execution_count": 2,
   "id": "042d238a",
   "metadata": {},
   "outputs": [],
   "source": [
    "path1 = os.getcwd()\n",
    "bc_data = path1 + '/' + 'bc_data.csv'"
   ]
  },
  {
   "cell_type": "code",
   "execution_count": 3,
   "id": "230b4059",
   "metadata": {},
   "outputs": [],
   "source": [
    "bc_data = pd.read_csv(bc_data)"
   ]
  },
  {
   "cell_type": "code",
   "execution_count": 4,
   "id": "5077c52d",
   "metadata": {},
   "outputs": [
    {
     "data": {
      "text/html": [
       "<div>\n",
       "<style scoped>\n",
       "    .dataframe tbody tr th:only-of-type {\n",
       "        vertical-align: middle;\n",
       "    }\n",
       "\n",
       "    .dataframe tbody tr th {\n",
       "        vertical-align: top;\n",
       "    }\n",
       "\n",
       "    .dataframe thead th {\n",
       "        text-align: right;\n",
       "    }\n",
       "</style>\n",
       "<table border=\"1\" class=\"dataframe\">\n",
       "  <thead>\n",
       "    <tr style=\"text-align: right;\">\n",
       "      <th></th>\n",
       "      <th>radius_mean</th>\n",
       "      <th>texture_mean</th>\n",
       "      <th>perimeter_mean</th>\n",
       "      <th>area_mean</th>\n",
       "      <th>smoothness_mean</th>\n",
       "      <th>compactness_mean</th>\n",
       "      <th>concavity_mean</th>\n",
       "      <th>concave points_mean</th>\n",
       "      <th>symmetry_mean</th>\n",
       "      <th>fractal_dimension_mean</th>\n",
       "      <th>...</th>\n",
       "      <th>texture_worst</th>\n",
       "      <th>perimeter_worst</th>\n",
       "      <th>area_worst</th>\n",
       "      <th>smoothness_worst</th>\n",
       "      <th>compactness_worst</th>\n",
       "      <th>concavity_worst</th>\n",
       "      <th>concave points_worst</th>\n",
       "      <th>symmetry_worst</th>\n",
       "      <th>fractal_dimension_worst</th>\n",
       "      <th>diagnosis</th>\n",
       "    </tr>\n",
       "  </thead>\n",
       "  <tbody>\n",
       "    <tr>\n",
       "      <th>0</th>\n",
       "      <td>17.99</td>\n",
       "      <td>10.38</td>\n",
       "      <td>122.80</td>\n",
       "      <td>1001.0</td>\n",
       "      <td>0.11840</td>\n",
       "      <td>0.27760</td>\n",
       "      <td>0.3001</td>\n",
       "      <td>0.14710</td>\n",
       "      <td>0.2419</td>\n",
       "      <td>0.07871</td>\n",
       "      <td>...</td>\n",
       "      <td>17.33</td>\n",
       "      <td>184.60</td>\n",
       "      <td>2019.0</td>\n",
       "      <td>0.1622</td>\n",
       "      <td>0.6656</td>\n",
       "      <td>0.7119</td>\n",
       "      <td>0.2654</td>\n",
       "      <td>0.4601</td>\n",
       "      <td>0.11890</td>\n",
       "      <td>1</td>\n",
       "    </tr>\n",
       "    <tr>\n",
       "      <th>1</th>\n",
       "      <td>20.57</td>\n",
       "      <td>17.77</td>\n",
       "      <td>132.90</td>\n",
       "      <td>1326.0</td>\n",
       "      <td>0.08474</td>\n",
       "      <td>0.07864</td>\n",
       "      <td>0.0869</td>\n",
       "      <td>0.07017</td>\n",
       "      <td>0.1812</td>\n",
       "      <td>0.05667</td>\n",
       "      <td>...</td>\n",
       "      <td>23.41</td>\n",
       "      <td>158.80</td>\n",
       "      <td>1956.0</td>\n",
       "      <td>0.1238</td>\n",
       "      <td>0.1866</td>\n",
       "      <td>0.2416</td>\n",
       "      <td>0.1860</td>\n",
       "      <td>0.2750</td>\n",
       "      <td>0.08902</td>\n",
       "      <td>1</td>\n",
       "    </tr>\n",
       "    <tr>\n",
       "      <th>2</th>\n",
       "      <td>19.69</td>\n",
       "      <td>21.25</td>\n",
       "      <td>130.00</td>\n",
       "      <td>1203.0</td>\n",
       "      <td>0.10960</td>\n",
       "      <td>0.15990</td>\n",
       "      <td>0.1974</td>\n",
       "      <td>0.12790</td>\n",
       "      <td>0.2069</td>\n",
       "      <td>0.05999</td>\n",
       "      <td>...</td>\n",
       "      <td>25.53</td>\n",
       "      <td>152.50</td>\n",
       "      <td>1709.0</td>\n",
       "      <td>0.1444</td>\n",
       "      <td>0.4245</td>\n",
       "      <td>0.4504</td>\n",
       "      <td>0.2430</td>\n",
       "      <td>0.3613</td>\n",
       "      <td>0.08758</td>\n",
       "      <td>1</td>\n",
       "    </tr>\n",
       "    <tr>\n",
       "      <th>3</th>\n",
       "      <td>11.42</td>\n",
       "      <td>20.38</td>\n",
       "      <td>77.58</td>\n",
       "      <td>386.1</td>\n",
       "      <td>0.14250</td>\n",
       "      <td>0.28390</td>\n",
       "      <td>0.2414</td>\n",
       "      <td>0.10520</td>\n",
       "      <td>0.2597</td>\n",
       "      <td>0.09744</td>\n",
       "      <td>...</td>\n",
       "      <td>26.50</td>\n",
       "      <td>98.87</td>\n",
       "      <td>567.7</td>\n",
       "      <td>0.2098</td>\n",
       "      <td>0.8663</td>\n",
       "      <td>0.6869</td>\n",
       "      <td>0.2575</td>\n",
       "      <td>0.6638</td>\n",
       "      <td>0.17300</td>\n",
       "      <td>1</td>\n",
       "    </tr>\n",
       "    <tr>\n",
       "      <th>4</th>\n",
       "      <td>20.29</td>\n",
       "      <td>14.34</td>\n",
       "      <td>135.10</td>\n",
       "      <td>1297.0</td>\n",
       "      <td>0.10030</td>\n",
       "      <td>0.13280</td>\n",
       "      <td>0.1980</td>\n",
       "      <td>0.10430</td>\n",
       "      <td>0.1809</td>\n",
       "      <td>0.05883</td>\n",
       "      <td>...</td>\n",
       "      <td>16.67</td>\n",
       "      <td>152.20</td>\n",
       "      <td>1575.0</td>\n",
       "      <td>0.1374</td>\n",
       "      <td>0.2050</td>\n",
       "      <td>0.4000</td>\n",
       "      <td>0.1625</td>\n",
       "      <td>0.2364</td>\n",
       "      <td>0.07678</td>\n",
       "      <td>1</td>\n",
       "    </tr>\n",
       "  </tbody>\n",
       "</table>\n",
       "<p>5 rows × 31 columns</p>\n",
       "</div>"
      ],
      "text/plain": [
       "   radius_mean  texture_mean  perimeter_mean  area_mean  smoothness_mean  \\\n",
       "0        17.99         10.38          122.80     1001.0          0.11840   \n",
       "1        20.57         17.77          132.90     1326.0          0.08474   \n",
       "2        19.69         21.25          130.00     1203.0          0.10960   \n",
       "3        11.42         20.38           77.58      386.1          0.14250   \n",
       "4        20.29         14.34          135.10     1297.0          0.10030   \n",
       "\n",
       "   compactness_mean  concavity_mean  concave points_mean  symmetry_mean  \\\n",
       "0           0.27760          0.3001              0.14710         0.2419   \n",
       "1           0.07864          0.0869              0.07017         0.1812   \n",
       "2           0.15990          0.1974              0.12790         0.2069   \n",
       "3           0.28390          0.2414              0.10520         0.2597   \n",
       "4           0.13280          0.1980              0.10430         0.1809   \n",
       "\n",
       "   fractal_dimension_mean  ...  texture_worst  perimeter_worst  area_worst  \\\n",
       "0                 0.07871  ...          17.33           184.60      2019.0   \n",
       "1                 0.05667  ...          23.41           158.80      1956.0   \n",
       "2                 0.05999  ...          25.53           152.50      1709.0   \n",
       "3                 0.09744  ...          26.50            98.87       567.7   \n",
       "4                 0.05883  ...          16.67           152.20      1575.0   \n",
       "\n",
       "   smoothness_worst  compactness_worst  concavity_worst  concave points_worst  \\\n",
       "0            0.1622             0.6656           0.7119                0.2654   \n",
       "1            0.1238             0.1866           0.2416                0.1860   \n",
       "2            0.1444             0.4245           0.4504                0.2430   \n",
       "3            0.2098             0.8663           0.6869                0.2575   \n",
       "4            0.1374             0.2050           0.4000                0.1625   \n",
       "\n",
       "   symmetry_worst  fractal_dimension_worst  diagnosis  \n",
       "0          0.4601                  0.11890          1  \n",
       "1          0.2750                  0.08902          1  \n",
       "2          0.3613                  0.08758          1  \n",
       "3          0.6638                  0.17300          1  \n",
       "4          0.2364                  0.07678          1  \n",
       "\n",
       "[5 rows x 31 columns]"
      ]
     },
     "execution_count": 4,
     "metadata": {},
     "output_type": "execute_result"
    }
   ],
   "source": [
    "bc_data.head()"
   ]
  },
  {
   "cell_type": "code",
   "execution_count": 5,
   "id": "b2f0c267",
   "metadata": {},
   "outputs": [
    {
     "data": {
      "text/plain": [
       "Index(['radius_mean', 'texture_mean', 'perimeter_mean', 'area_mean',\n",
       "       'smoothness_mean', 'compactness_mean', 'concavity_mean',\n",
       "       'concave points_mean', 'symmetry_mean', 'fractal_dimension_mean',\n",
       "       'radius_se', 'texture_se', 'perimeter_se', 'area_se', 'smoothness_se',\n",
       "       'compactness_se', 'concavity_se', 'concave points_se', 'symmetry_se',\n",
       "       'fractal_dimension_se', 'radius_worst', 'texture_worst',\n",
       "       'perimeter_worst', 'area_worst', 'smoothness_worst',\n",
       "       'compactness_worst', 'concavity_worst', 'concave points_worst',\n",
       "       'symmetry_worst', 'fractal_dimension_worst', 'diagnosis'],\n",
       "      dtype='object')"
      ]
     },
     "execution_count": 5,
     "metadata": {},
     "output_type": "execute_result"
    }
   ],
   "source": [
    "bc_data.columns"
   ]
  },
  {
   "cell_type": "code",
   "execution_count": 6,
   "id": "e6c86606",
   "metadata": {},
   "outputs": [],
   "source": [
    "# Splitting data into testing and training set - 30% for testing\n",
    "\n",
    "X_train, X_test, Y_train, Y_test = train_test_split(bc_data.iloc[:,:-1], bc_data['diagnosis'], test_size = 0.3)"
   ]
  },
  {
   "cell_type": "code",
   "execution_count": 7,
   "id": "447322f5",
   "metadata": {},
   "outputs": [
    {
     "data": {
      "text/html": [
       "<div>\n",
       "<style scoped>\n",
       "    .dataframe tbody tr th:only-of-type {\n",
       "        vertical-align: middle;\n",
       "    }\n",
       "\n",
       "    .dataframe tbody tr th {\n",
       "        vertical-align: top;\n",
       "    }\n",
       "\n",
       "    .dataframe thead th {\n",
       "        text-align: right;\n",
       "    }\n",
       "</style>\n",
       "<table border=\"1\" class=\"dataframe\">\n",
       "  <thead>\n",
       "    <tr style=\"text-align: right;\">\n",
       "      <th></th>\n",
       "      <th>radius_mean</th>\n",
       "      <th>texture_mean</th>\n",
       "      <th>perimeter_mean</th>\n",
       "      <th>area_mean</th>\n",
       "      <th>smoothness_mean</th>\n",
       "      <th>compactness_mean</th>\n",
       "      <th>concavity_mean</th>\n",
       "      <th>concave points_mean</th>\n",
       "      <th>symmetry_mean</th>\n",
       "      <th>fractal_dimension_mean</th>\n",
       "      <th>...</th>\n",
       "      <th>radius_worst</th>\n",
       "      <th>texture_worst</th>\n",
       "      <th>perimeter_worst</th>\n",
       "      <th>area_worst</th>\n",
       "      <th>smoothness_worst</th>\n",
       "      <th>compactness_worst</th>\n",
       "      <th>concavity_worst</th>\n",
       "      <th>concave points_worst</th>\n",
       "      <th>symmetry_worst</th>\n",
       "      <th>fractal_dimension_worst</th>\n",
       "    </tr>\n",
       "  </thead>\n",
       "  <tbody>\n",
       "    <tr>\n",
       "      <th>370</th>\n",
       "      <td>16.35</td>\n",
       "      <td>23.29</td>\n",
       "      <td>109.00</td>\n",
       "      <td>840.4</td>\n",
       "      <td>0.09742</td>\n",
       "      <td>0.14970</td>\n",
       "      <td>0.181100</td>\n",
       "      <td>0.087730</td>\n",
       "      <td>0.2175</td>\n",
       "      <td>0.06218</td>\n",
       "      <td>...</td>\n",
       "      <td>19.38</td>\n",
       "      <td>31.03</td>\n",
       "      <td>129.30</td>\n",
       "      <td>1165.0</td>\n",
       "      <td>0.14150</td>\n",
       "      <td>0.46650</td>\n",
       "      <td>0.708700</td>\n",
       "      <td>0.224800</td>\n",
       "      <td>0.4824</td>\n",
       "      <td>0.09614</td>\n",
       "    </tr>\n",
       "    <tr>\n",
       "      <th>423</th>\n",
       "      <td>13.66</td>\n",
       "      <td>19.13</td>\n",
       "      <td>89.46</td>\n",
       "      <td>575.3</td>\n",
       "      <td>0.09057</td>\n",
       "      <td>0.11470</td>\n",
       "      <td>0.096570</td>\n",
       "      <td>0.048120</td>\n",
       "      <td>0.1848</td>\n",
       "      <td>0.06181</td>\n",
       "      <td>...</td>\n",
       "      <td>15.14</td>\n",
       "      <td>25.50</td>\n",
       "      <td>101.40</td>\n",
       "      <td>708.8</td>\n",
       "      <td>0.11470</td>\n",
       "      <td>0.31670</td>\n",
       "      <td>0.366000</td>\n",
       "      <td>0.140700</td>\n",
       "      <td>0.2744</td>\n",
       "      <td>0.08839</td>\n",
       "    </tr>\n",
       "    <tr>\n",
       "      <th>1</th>\n",
       "      <td>20.57</td>\n",
       "      <td>17.77</td>\n",
       "      <td>132.90</td>\n",
       "      <td>1326.0</td>\n",
       "      <td>0.08474</td>\n",
       "      <td>0.07864</td>\n",
       "      <td>0.086900</td>\n",
       "      <td>0.070170</td>\n",
       "      <td>0.1812</td>\n",
       "      <td>0.05667</td>\n",
       "      <td>...</td>\n",
       "      <td>24.99</td>\n",
       "      <td>23.41</td>\n",
       "      <td>158.80</td>\n",
       "      <td>1956.0</td>\n",
       "      <td>0.12380</td>\n",
       "      <td>0.18660</td>\n",
       "      <td>0.241600</td>\n",
       "      <td>0.186000</td>\n",
       "      <td>0.2750</td>\n",
       "      <td>0.08902</td>\n",
       "    </tr>\n",
       "    <tr>\n",
       "      <th>153</th>\n",
       "      <td>11.15</td>\n",
       "      <td>13.08</td>\n",
       "      <td>70.87</td>\n",
       "      <td>381.9</td>\n",
       "      <td>0.09754</td>\n",
       "      <td>0.05113</td>\n",
       "      <td>0.019820</td>\n",
       "      <td>0.017860</td>\n",
       "      <td>0.1830</td>\n",
       "      <td>0.06105</td>\n",
       "      <td>...</td>\n",
       "      <td>11.99</td>\n",
       "      <td>16.30</td>\n",
       "      <td>76.25</td>\n",
       "      <td>440.8</td>\n",
       "      <td>0.13410</td>\n",
       "      <td>0.08971</td>\n",
       "      <td>0.071160</td>\n",
       "      <td>0.055060</td>\n",
       "      <td>0.2859</td>\n",
       "      <td>0.06772</td>\n",
       "    </tr>\n",
       "    <tr>\n",
       "      <th>517</th>\n",
       "      <td>19.89</td>\n",
       "      <td>20.26</td>\n",
       "      <td>130.50</td>\n",
       "      <td>1214.0</td>\n",
       "      <td>0.10370</td>\n",
       "      <td>0.13100</td>\n",
       "      <td>0.141100</td>\n",
       "      <td>0.094310</td>\n",
       "      <td>0.1802</td>\n",
       "      <td>0.06188</td>\n",
       "      <td>...</td>\n",
       "      <td>23.73</td>\n",
       "      <td>25.23</td>\n",
       "      <td>160.50</td>\n",
       "      <td>1646.0</td>\n",
       "      <td>0.14170</td>\n",
       "      <td>0.33090</td>\n",
       "      <td>0.418500</td>\n",
       "      <td>0.161300</td>\n",
       "      <td>0.2549</td>\n",
       "      <td>0.09136</td>\n",
       "    </tr>\n",
       "    <tr>\n",
       "      <th>...</th>\n",
       "      <td>...</td>\n",
       "      <td>...</td>\n",
       "      <td>...</td>\n",
       "      <td>...</td>\n",
       "      <td>...</td>\n",
       "      <td>...</td>\n",
       "      <td>...</td>\n",
       "      <td>...</td>\n",
       "      <td>...</td>\n",
       "      <td>...</td>\n",
       "      <td>...</td>\n",
       "      <td>...</td>\n",
       "      <td>...</td>\n",
       "      <td>...</td>\n",
       "      <td>...</td>\n",
       "      <td>...</td>\n",
       "      <td>...</td>\n",
       "      <td>...</td>\n",
       "      <td>...</td>\n",
       "      <td>...</td>\n",
       "      <td>...</td>\n",
       "    </tr>\n",
       "    <tr>\n",
       "      <th>171</th>\n",
       "      <td>13.43</td>\n",
       "      <td>19.63</td>\n",
       "      <td>85.84</td>\n",
       "      <td>565.4</td>\n",
       "      <td>0.09048</td>\n",
       "      <td>0.06288</td>\n",
       "      <td>0.058580</td>\n",
       "      <td>0.034380</td>\n",
       "      <td>0.1598</td>\n",
       "      <td>0.05671</td>\n",
       "      <td>...</td>\n",
       "      <td>17.98</td>\n",
       "      <td>29.87</td>\n",
       "      <td>116.60</td>\n",
       "      <td>993.6</td>\n",
       "      <td>0.14010</td>\n",
       "      <td>0.15460</td>\n",
       "      <td>0.264400</td>\n",
       "      <td>0.116000</td>\n",
       "      <td>0.2884</td>\n",
       "      <td>0.07371</td>\n",
       "    </tr>\n",
       "    <tr>\n",
       "      <th>320</th>\n",
       "      <td>10.25</td>\n",
       "      <td>16.18</td>\n",
       "      <td>66.52</td>\n",
       "      <td>324.2</td>\n",
       "      <td>0.10610</td>\n",
       "      <td>0.11110</td>\n",
       "      <td>0.067260</td>\n",
       "      <td>0.039650</td>\n",
       "      <td>0.1743</td>\n",
       "      <td>0.07279</td>\n",
       "      <td>...</td>\n",
       "      <td>11.28</td>\n",
       "      <td>20.61</td>\n",
       "      <td>71.53</td>\n",
       "      <td>390.4</td>\n",
       "      <td>0.14020</td>\n",
       "      <td>0.23600</td>\n",
       "      <td>0.189800</td>\n",
       "      <td>0.097440</td>\n",
       "      <td>0.2608</td>\n",
       "      <td>0.09702</td>\n",
       "    </tr>\n",
       "    <tr>\n",
       "      <th>435</th>\n",
       "      <td>13.98</td>\n",
       "      <td>19.62</td>\n",
       "      <td>91.12</td>\n",
       "      <td>599.5</td>\n",
       "      <td>0.10600</td>\n",
       "      <td>0.11330</td>\n",
       "      <td>0.112600</td>\n",
       "      <td>0.064630</td>\n",
       "      <td>0.1669</td>\n",
       "      <td>0.06544</td>\n",
       "      <td>...</td>\n",
       "      <td>17.04</td>\n",
       "      <td>30.80</td>\n",
       "      <td>113.90</td>\n",
       "      <td>869.3</td>\n",
       "      <td>0.16130</td>\n",
       "      <td>0.35680</td>\n",
       "      <td>0.406900</td>\n",
       "      <td>0.182700</td>\n",
       "      <td>0.3179</td>\n",
       "      <td>0.10550</td>\n",
       "    </tr>\n",
       "    <tr>\n",
       "      <th>178</th>\n",
       "      <td>13.01</td>\n",
       "      <td>22.22</td>\n",
       "      <td>82.01</td>\n",
       "      <td>526.4</td>\n",
       "      <td>0.06251</td>\n",
       "      <td>0.01938</td>\n",
       "      <td>0.001595</td>\n",
       "      <td>0.001852</td>\n",
       "      <td>0.1395</td>\n",
       "      <td>0.05234</td>\n",
       "      <td>...</td>\n",
       "      <td>14.00</td>\n",
       "      <td>29.02</td>\n",
       "      <td>88.18</td>\n",
       "      <td>608.8</td>\n",
       "      <td>0.08125</td>\n",
       "      <td>0.03432</td>\n",
       "      <td>0.007977</td>\n",
       "      <td>0.009259</td>\n",
       "      <td>0.2295</td>\n",
       "      <td>0.05843</td>\n",
       "    </tr>\n",
       "    <tr>\n",
       "      <th>222</th>\n",
       "      <td>10.18</td>\n",
       "      <td>17.53</td>\n",
       "      <td>65.12</td>\n",
       "      <td>313.1</td>\n",
       "      <td>0.10610</td>\n",
       "      <td>0.08502</td>\n",
       "      <td>0.017680</td>\n",
       "      <td>0.019150</td>\n",
       "      <td>0.1910</td>\n",
       "      <td>0.06908</td>\n",
       "      <td>...</td>\n",
       "      <td>11.17</td>\n",
       "      <td>22.84</td>\n",
       "      <td>71.94</td>\n",
       "      <td>375.6</td>\n",
       "      <td>0.14060</td>\n",
       "      <td>0.14400</td>\n",
       "      <td>0.065720</td>\n",
       "      <td>0.055750</td>\n",
       "      <td>0.3055</td>\n",
       "      <td>0.08797</td>\n",
       "    </tr>\n",
       "  </tbody>\n",
       "</table>\n",
       "<p>171 rows × 30 columns</p>\n",
       "</div>"
      ],
      "text/plain": [
       "     radius_mean  texture_mean  perimeter_mean  area_mean  smoothness_mean  \\\n",
       "370        16.35         23.29          109.00      840.4          0.09742   \n",
       "423        13.66         19.13           89.46      575.3          0.09057   \n",
       "1          20.57         17.77          132.90     1326.0          0.08474   \n",
       "153        11.15         13.08           70.87      381.9          0.09754   \n",
       "517        19.89         20.26          130.50     1214.0          0.10370   \n",
       "..           ...           ...             ...        ...              ...   \n",
       "171        13.43         19.63           85.84      565.4          0.09048   \n",
       "320        10.25         16.18           66.52      324.2          0.10610   \n",
       "435        13.98         19.62           91.12      599.5          0.10600   \n",
       "178        13.01         22.22           82.01      526.4          0.06251   \n",
       "222        10.18         17.53           65.12      313.1          0.10610   \n",
       "\n",
       "     compactness_mean  concavity_mean  concave points_mean  symmetry_mean  \\\n",
       "370           0.14970        0.181100             0.087730         0.2175   \n",
       "423           0.11470        0.096570             0.048120         0.1848   \n",
       "1             0.07864        0.086900             0.070170         0.1812   \n",
       "153           0.05113        0.019820             0.017860         0.1830   \n",
       "517           0.13100        0.141100             0.094310         0.1802   \n",
       "..                ...             ...                  ...            ...   \n",
       "171           0.06288        0.058580             0.034380         0.1598   \n",
       "320           0.11110        0.067260             0.039650         0.1743   \n",
       "435           0.11330        0.112600             0.064630         0.1669   \n",
       "178           0.01938        0.001595             0.001852         0.1395   \n",
       "222           0.08502        0.017680             0.019150         0.1910   \n",
       "\n",
       "     fractal_dimension_mean  ...  radius_worst  texture_worst  \\\n",
       "370                 0.06218  ...         19.38          31.03   \n",
       "423                 0.06181  ...         15.14          25.50   \n",
       "1                   0.05667  ...         24.99          23.41   \n",
       "153                 0.06105  ...         11.99          16.30   \n",
       "517                 0.06188  ...         23.73          25.23   \n",
       "..                      ...  ...           ...            ...   \n",
       "171                 0.05671  ...         17.98          29.87   \n",
       "320                 0.07279  ...         11.28          20.61   \n",
       "435                 0.06544  ...         17.04          30.80   \n",
       "178                 0.05234  ...         14.00          29.02   \n",
       "222                 0.06908  ...         11.17          22.84   \n",
       "\n",
       "     perimeter_worst  area_worst  smoothness_worst  compactness_worst  \\\n",
       "370           129.30      1165.0           0.14150            0.46650   \n",
       "423           101.40       708.8           0.11470            0.31670   \n",
       "1             158.80      1956.0           0.12380            0.18660   \n",
       "153            76.25       440.8           0.13410            0.08971   \n",
       "517           160.50      1646.0           0.14170            0.33090   \n",
       "..               ...         ...               ...                ...   \n",
       "171           116.60       993.6           0.14010            0.15460   \n",
       "320            71.53       390.4           0.14020            0.23600   \n",
       "435           113.90       869.3           0.16130            0.35680   \n",
       "178            88.18       608.8           0.08125            0.03432   \n",
       "222            71.94       375.6           0.14060            0.14400   \n",
       "\n",
       "     concavity_worst  concave points_worst  symmetry_worst  \\\n",
       "370         0.708700              0.224800          0.4824   \n",
       "423         0.366000              0.140700          0.2744   \n",
       "1           0.241600              0.186000          0.2750   \n",
       "153         0.071160              0.055060          0.2859   \n",
       "517         0.418500              0.161300          0.2549   \n",
       "..               ...                   ...             ...   \n",
       "171         0.264400              0.116000          0.2884   \n",
       "320         0.189800              0.097440          0.2608   \n",
       "435         0.406900              0.182700          0.3179   \n",
       "178         0.007977              0.009259          0.2295   \n",
       "222         0.065720              0.055750          0.3055   \n",
       "\n",
       "     fractal_dimension_worst  \n",
       "370                  0.09614  \n",
       "423                  0.08839  \n",
       "1                    0.08902  \n",
       "153                  0.06772  \n",
       "517                  0.09136  \n",
       "..                       ...  \n",
       "171                  0.07371  \n",
       "320                  0.09702  \n",
       "435                  0.10550  \n",
       "178                  0.05843  \n",
       "222                  0.08797  \n",
       "\n",
       "[171 rows x 30 columns]"
      ]
     },
     "execution_count": 7,
     "metadata": {},
     "output_type": "execute_result"
    }
   ],
   "source": [
    "X_test"
   ]
  },
  {
   "cell_type": "code",
   "execution_count": 8,
   "id": "da6047cd",
   "metadata": {},
   "outputs": [],
   "source": [
    "Y_naive_pred = (X_test['radius_mean'] > np.mean(X_test['radius_mean'])).astype(int).values"
   ]
  },
  {
   "cell_type": "code",
   "execution_count": 9,
   "id": "7f028b66",
   "metadata": {},
   "outputs": [
    {
     "data": {
      "text/plain": [
       "array([1, 0, 1, 0, 1, 1, 1, 0, 0, 0, 0, 1, 1, 0, 0, 1, 0, 0, 0, 0, 0, 1,\n",
       "       0, 0, 0, 0, 0, 1, 1, 0, 1, 1, 1, 0, 1, 1, 1, 0, 1, 0, 0, 0, 0, 1,\n",
       "       0, 1, 0, 1, 0, 1, 0, 0, 1, 1, 0, 0, 0, 0, 1, 0, 0, 1, 0, 1, 1, 0,\n",
       "       0, 0, 0, 1, 0, 1, 1, 0, 1, 0, 1, 1, 0, 0, 0, 0, 1, 1, 0, 0, 0, 1,\n",
       "       1, 0, 1, 1, 0, 0, 0, 0, 0, 1, 1, 1, 1, 0, 0, 0, 1, 1, 1, 0, 0, 0,\n",
       "       0, 0, 0, 0, 1, 0, 0, 1, 1, 0, 0, 0, 0, 0, 0, 1, 0, 1, 1, 1, 0, 0,\n",
       "       0, 0, 1, 1, 1, 1, 1, 1, 0, 1, 0, 0, 1, 0, 0, 0, 0, 0, 1, 1, 0, 1,\n",
       "       0, 1, 1, 0, 0, 1, 1, 0, 0, 0, 0, 1, 0, 0, 1, 0, 0])"
      ]
     },
     "execution_count": 9,
     "metadata": {},
     "output_type": "execute_result"
    }
   ],
   "source": [
    "Y_naive_pred"
   ]
  },
  {
   "cell_type": "code",
   "execution_count": 10,
   "id": "c74ea248",
   "metadata": {},
   "outputs": [
    {
     "data": {
      "text/plain": [
       "(171,)"
      ]
     },
     "execution_count": 10,
     "metadata": {},
     "output_type": "execute_result"
    }
   ],
   "source": [
    "Y_naive_pred.shape"
   ]
  },
  {
   "cell_type": "code",
   "execution_count": 11,
   "id": "3bcc76f1",
   "metadata": {},
   "outputs": [
    {
     "data": {
      "text/plain": [
       "0      17.99\n",
       "1      20.57\n",
       "2      19.69\n",
       "3      11.42\n",
       "4      20.29\n",
       "       ...  \n",
       "564    21.56\n",
       "565    20.13\n",
       "566    16.60\n",
       "567    20.60\n",
       "568     7.76\n",
       "Name: radius_mean, Length: 569, dtype: float64"
      ]
     },
     "execution_count": 11,
     "metadata": {},
     "output_type": "execute_result"
    }
   ],
   "source": [
    "bc_data['radius_mean']"
   ]
  },
  {
   "cell_type": "code",
   "execution_count": 12,
   "id": "a4b92d18",
   "metadata": {},
   "outputs": [
    {
     "data": {
      "text/plain": [
       "30.052724077328648"
      ]
     },
     "execution_count": 12,
     "metadata": {},
     "output_type": "execute_result"
    }
   ],
   "source": [
    "len(Y_test)/(len(Y_train) + len(Y_test))*100"
   ]
  },
  {
   "cell_type": "code",
   "execution_count": 13,
   "id": "4ecf1c60",
   "metadata": {},
   "outputs": [],
   "source": [
    "# Apply standard scaling to ensure no feature dominates (over others)\n",
    "\n",
    "from sklearn.preprocessing import StandardScaler\n",
    "\n",
    "sc = StandardScaler()\n",
    "\n",
    "X_train = sc.fit_transform(X_train)\n",
    "X_test = sc.fit_transform(X_test)\n",
    "\n",
    "# Question: why standard scaling needs to be applied for X_train and X_test (but not Y)"
   ]
  },
  {
   "cell_type": "code",
   "execution_count": 14,
   "id": "942a9d9a",
   "metadata": {},
   "outputs": [
    {
     "data": {
      "text/plain": [
       "(398, 30)"
      ]
     },
     "execution_count": 14,
     "metadata": {},
     "output_type": "execute_result"
    }
   ],
   "source": [
    "X_train.shape"
   ]
  },
  {
   "cell_type": "markdown",
   "id": "27124726",
   "metadata": {},
   "source": [
    "# Modeling"
   ]
  },
  {
   "cell_type": "code",
   "execution_count": 15,
   "id": "4b74913c",
   "metadata": {},
   "outputs": [
    {
     "data": {
      "text/plain": [
       "<matplotlib.legend.Legend at 0x7fa2021e36d0>"
      ]
     },
     "execution_count": 15,
     "metadata": {},
     "output_type": "execute_result"
    },
    {
     "data": {
      "image/png": "[encoded data removed]",
      "text/plain": [
       "<Figure size 432x288 with 1 Axes>"
      ]
     },
     "metadata": {
      "needs_background": "light"
     },
     "output_type": "display_data"
    }
   ],
   "source": [
    "#KNN classifier\n",
    "train_accuracy = []\n",
    "test_accuracy = []\n",
    "\n",
    "#try KNN for different k nearest neighbor from 1 to 15\n",
    "neighbors_setting = range(1,15)\n",
    "\n",
    "for n_n in neighbors_setting:\n",
    "    knn = KNeighborsClassifier(n_neighbors=n_n)\n",
    "    knn.fit(X_train,Y_train)\n",
    "    train_accuracy.append(knn.score(X_train, Y_train))\n",
    "    test_accuracy.append(knn.score(X_test, Y_test))\n",
    "\n",
    "plt.plot(neighbors_setting,train_accuracy,'b*', label='Accuracy: training set')\n",
    "plt.plot(neighbors_setting,train_accuracy,'b')\n",
    "\n",
    "plt.plot(neighbors_setting,test_accuracy,'r*',label='Accuracy: test set')\n",
    "plt.plot(neighbors_setting,test_accuracy,'r')\n",
    "plt.title(\"Accuracy vs KNN\")\n",
    "\n",
    "plt.ylabel('Accuracy')\n",
    "plt.xlabel('Number of Neighbors')\n",
    "plt.legend()\n",
    "#plt.savefig('7.png',facecolor='w')\n"
   ]
  },
  {
   "cell_type": "code",
   "execution_count": 16,
   "id": "13b19e52",
   "metadata": {},
   "outputs": [
    {
     "name": "stdout",
     "output_type": "stream",
     "text": [
      "Accuracy of the training set for 5NN: 0.972\n",
      "Accuracy of the test set for 5NN: 0.965\n"
     ]
    }
   ],
   "source": [
    "print(\"Accuracy of the training set for 5NN: {:.3f}\".format(train_accuracy[4]))\n",
    "print(\"Accuracy of the test set for 5NN: {:.3f}\".format(test_accuracy[4]))"
   ]
  },
  {
   "cell_type": "code",
   "execution_count": 17,
   "id": "03e2f81c",
   "metadata": {},
   "outputs": [
    {
     "name": "stdout",
     "output_type": "stream",
     "text": [
      "Accuracy on the training set: 0.990\n",
      "Accuracy on the test set: 0.959\n",
      "[[111   4]\n",
      " [  3  53]]\n"
     ]
    },
    {
     "data": {
      "image/png": "[encoded data removed]",
      "text/plain": [
       "<Figure size 432x288 with 2 Axes>"
      ]
     },
     "metadata": {
      "needs_background": "light"
     },
     "output_type": "display_data"
    }
   ],
   "source": [
    "#Logistic Regression\n",
    "\n",
    "logistic_reg = LogisticRegression()\n",
    "logistic_reg.fit(X_train, Y_train)\n",
    "\n",
    "print('Accuracy on the training set: {:.3f}'.format(logistic_reg.score(X_train,Y_train)))\n",
    "print('Accuracy on the test set: {:.3f}'.format(logistic_reg.score(X_test,Y_test)))\n",
    "\n",
    "\n",
    "# feeding the training data into the model\n",
    "logistic_reg.fit(X_train, Y_train)\n",
    "\n",
    "# predicting the test set results\n",
    "Y_pred = logistic_reg.predict(X_test)\n",
    "\n",
    "# confusion matrix \n",
    "cm = confusion_matrix(Y_test, Y_pred)\n",
    "print(cm)\n",
    "\n",
    "sum_mat1 = np.sum(cm, axis=1)\n",
    "cm1 = cm/sum_mat1[:,None]\n",
    "sns.heatmap(cm1, annot=True, cmap=\"Blues\")\n",
    "\n",
    "plt.xlabel(\"Predicted Label\")\n",
    "plt.ylabel(\"True Label\")\n",
    "plt.title(\"Normalized Confusion Matrix of Logistic Regression\")\n",
    "plt.savefig('8.png',facecolor='w')\n",
    "plt.show()\n",
    "\n",
    "# In the confusion matrix, 1 represents malignant and 0 represents benign. \n",
    "# so, the confusion matrix is  [[True negative, False Positive]\n",
    "#                                [False negative, True Positive]]"
   ]
  },
  {
   "cell_type": "code",
   "execution_count": 18,
   "id": "edeb83f0",
   "metadata": {},
   "outputs": [
    {
     "name": "stdout",
     "output_type": "stream",
     "text": [
      "              precision    recall  f1-score   support\n",
      "\n",
      "           0       0.97      0.97      0.97       115\n",
      "           1       0.93      0.95      0.94        56\n",
      "\n",
      "    accuracy                           0.96       171\n",
      "   macro avg       0.95      0.96      0.95       171\n",
      "weighted avg       0.96      0.96      0.96       171\n",
      "\n"
     ]
    }
   ],
   "source": [
    "#print(classification_report(Y_pred, Y_test))\n",
    "print(classification_report(Y_test, Y_pred))\n"
   ]
  },
  {
   "cell_type": "code",
   "execution_count": 19,
   "id": "ec1607bf",
   "metadata": {},
   "outputs": [],
   "source": [
    "cm1_p = confusion_matrix(Y_test, Y_naive_pred)"
   ]
  },
  {
   "cell_type": "code",
   "execution_count": 20,
   "id": "6118b4b4",
   "metadata": {},
   "outputs": [
    {
     "data": {
      "text/plain": [
       "array([[93, 22],\n",
       "       [ 7, 49]])"
      ]
     },
     "execution_count": 20,
     "metadata": {},
     "output_type": "execute_result"
    }
   ],
   "source": [
    "cm1_p"
   ]
  },
  {
   "cell_type": "code",
   "execution_count": 21,
   "id": "59c39439",
   "metadata": {},
   "outputs": [
    {
     "name": "stdout",
     "output_type": "stream",
     "text": [
      "              precision    recall  f1-score   support\n",
      "\n",
      "           0       0.93      0.81      0.87       115\n",
      "           1       0.69      0.88      0.77        56\n",
      "\n",
      "    accuracy                           0.83       171\n",
      "   macro avg       0.81      0.84      0.82       171\n",
      "weighted avg       0.85      0.83      0.83       171\n",
      "\n"
     ]
    }
   ],
   "source": [
    "#print(classification_report(Y_naive_pred, Y_test))\n",
    "print(classification_report(Y_test, Y_naive_pred))\n"
   ]
  },
  {
   "cell_type": "code",
   "execution_count": 22,
   "id": "40292ab4",
   "metadata": {},
   "outputs": [
    {
     "data": {
      "text/plain": [
       "(171,)"
      ]
     },
     "execution_count": 22,
     "metadata": {},
     "output_type": "execute_result"
    }
   ],
   "source": [
    "Y_pred.shape"
   ]
  },
  {
   "cell_type": "code",
   "execution_count": 23,
   "id": "fcd0fd93",
   "metadata": {},
   "outputs": [
    {
     "data": {
      "text/plain": [
       "array([[ 7.68168974e-01,  1.04145521e+00,  8.52335674e-01, ...,\n",
       "         1.78854493e+00,  3.18074496e+00,  6.13495524e-01],\n",
       "       [-3.41407658e-02,  4.57833265e-02,  4.13042272e-04, ...,\n",
       "         4.61675621e-01, -2.22787454e-01,  2.11542232e-01],\n",
       "       [ 2.02681102e+00, -2.79724788e-01,  1.89434954e+00, ...,\n",
       "         1.17638644e+00, -2.12969572e-01,  2.44217145e-01],\n",
       "       ...,\n",
       "       [ 6.13012850e-02,  1.63061985e-01,  7.27872270e-02, ...,\n",
       "         1.12432141e+00,  4.89008988e-01,  1.09895137e+00],\n",
       "       [-2.28007431e-01,  7.85356910e-01, -3.24398811e-01, ...,\n",
       "        -1.61210594e+00, -9.57492287e-01, -1.34233140e+00],\n",
       "       [-1.07207307e+00, -3.37167396e-01, -1.06078434e+00, ...,\n",
       "        -8.78604382e-01,  2.86106094e-01,  1.89758957e-01]])"
      ]
     },
     "execution_count": 23,
     "metadata": {},
     "output_type": "execute_result"
    }
   ],
   "source": [
    "X_test"
   ]
  },
  {
   "cell_type": "code",
   "execution_count": 24,
   "id": "71bc5dd9",
   "metadata": {},
   "outputs": [
    {
     "data": {
      "text/plain": [
       "<matplotlib.legend.Legend at 0x7fa2000f97f0>"
      ]
     },
     "execution_count": 24,
     "metadata": {},
     "output_type": "execute_result"
    },
    {
     "data": {
      "image/png": "[encoded data removed]",
      "text/plain": [
       "<Figure size 432x288 with 1 Axes>"
      ]
     },
     "metadata": {
      "needs_background": "light"
     },
     "output_type": "display_data"
    }
   ],
   "source": [
    "#Decision Tree\n",
    "train_accuracy = []\n",
    "test_accuracy = []\n",
    "\n",
    "max_dep = range(1,15)\n",
    "\n",
    "for m1 in max_dep:\n",
    "    tree = DecisionTreeClassifier(max_depth=m1,random_state=0)\n",
    "    tree.fit(X_train,Y_train)\n",
    "    train_accuracy.append(tree.score(X_train, Y_train))\n",
    "    test_accuracy.append(tree.score(X_test, Y_test))\n",
    "\n",
    "plt.plot(max_dep,train_accuracy,'b*', label='Accuracy: training set')\n",
    "plt.plot(neighbors_setting,train_accuracy,'b')\n",
    "\n",
    "plt.plot(neighbors_setting,test_accuracy,'r*',label='Accuracy: test set')\n",
    "plt.plot(neighbors_setting,test_accuracy,'r')\n",
    "plt.title(\"Accuracy vs Max. Depth\")\n",
    "\n",
    "\n",
    "plt.ylabel('Accuracy')\n",
    "plt.xlabel('Max Depth')\n",
    "plt.legend()\n",
    "#plt.savefig('9.png',facecolor='w')\n"
   ]
  },
  {
   "cell_type": "markdown",
   "id": "4d2e4853",
   "metadata": {},
   "source": [
    "By having larger max_depth (> 5), the model is overfit into training data. The accuracy for the training set increased but the accuracy for the test set decreased.\n",
    "\n",
    "Other parameters which could be included:\n",
    "   - min_samples_leaf, max_sample_leaf\n",
    "   - max_leaf_node\n",
    "   \n",
    "The accuracy is highest for both the set when maximum depth is 4."
   ]
  },
  {
   "cell_type": "code",
   "execution_count": 25,
   "id": "69e0b1b1",
   "metadata": {},
   "outputs": [
    {
     "name": "stdout",
     "output_type": "stream",
     "text": [
      "Accuracy of the training set for Decision Tree: 0.995\n",
      "Accuracy of the test set for Decision Tree: 0.918\n"
     ]
    }
   ],
   "source": [
    "print(\"Accuracy of the training set for Decision Tree: {:.3f}\".format(train_accuracy[4]))\n",
    "print(\"Accuracy of the test set for Decision Tree: {:.3f}\".format(test_accuracy[4]))"
   ]
  },
  {
   "cell_type": "code",
   "execution_count": 26,
   "id": "67cdf0a5",
   "metadata": {},
   "outputs": [
    {
     "name": "stdout",
     "output_type": "stream",
     "text": [
      "[[103  12]\n",
      " [  4  52]]\n"
     ]
    },
    {
     "data": {
      "image/png": "[encoded data removed]",
      "text/plain": [
       "<Figure size 432x288 with 2 Axes>"
      ]
     },
     "metadata": {
      "needs_background": "light"
     },
     "output_type": "display_data"
    },
    {
     "name": "stdout",
     "output_type": "stream",
     "text": [
      "              precision    recall  f1-score   support\n",
      "\n",
      "           0       0.96      0.90      0.93       115\n",
      "           1       0.81      0.93      0.87        56\n",
      "\n",
      "    accuracy                           0.91       171\n",
      "   macro avg       0.89      0.91      0.90       171\n",
      "weighted avg       0.91      0.91      0.91       171\n",
      "\n"
     ]
    }
   ],
   "source": [
    "# feeding the training data into the model\n",
    "tree.fit(X_train, Y_train)\n",
    "\n",
    "# predicting the test set results\n",
    "Y_pred = tree.predict(X_test)\n",
    "\n",
    "# confusion matrix \n",
    "cm = confusion_matrix(Y_test, Y_pred)\n",
    "print(cm)\n",
    "\n",
    "sum_mat1 = np.sum(cm, axis=1)\n",
    "cm1 = cm/sum_mat1[:,None]\n",
    "sns.heatmap(cm1, annot=True, cmap=\"Blues\")\n",
    "\n",
    "plt.xlabel(\"Predicted Label\")\n",
    "plt.ylabel(\"True Label\")\n",
    "plt.title(\"Normalized Confusion Matrix of Decision Tree\")\n",
    "plt.savefig('10.png',facecolor='w')\n",
    "\n",
    "plt.show()\n",
    "\n",
    "#print(classification_report(Y_pred, Y_test))\n",
    "\n",
    "print(classification_report(Y_test, Y_pred))\n",
    "\n"
   ]
  },
  {
   "cell_type": "code",
   "execution_count": 27,
   "id": "423b4022",
   "metadata": {},
   "outputs": [
    {
     "name": "stdout",
     "output_type": "stream",
     "text": [
      "Training accuracy : 0.9874371859296482\n",
      "Testing accuarcy : 0.9590643274853801\n",
      "              precision    recall  f1-score   support\n",
      "\n",
      "           0       0.98      0.96      0.97       115\n",
      "           1       0.92      0.96      0.94        56\n",
      "\n",
      "    accuracy                           0.96       171\n",
      "   macro avg       0.95      0.96      0.95       171\n",
      "weighted avg       0.96      0.96      0.96       171\n",
      "\n",
      "[[110   5]\n",
      " [  2  54]]\n"
     ]
    },
    {
     "data": {
      "image/png": "[encoded data removed]",
      "text/plain": [
       "<Figure size 432x288 with 2 Axes>"
      ]
     },
     "metadata": {
      "needs_background": "light"
     },
     "output_type": "display_data"
    }
   ],
   "source": [
    "# Support Vector Machine\n",
    "\n",
    "# creating a model\n",
    "model = SVC()\n",
    "\n",
    "# feedingthe training data into the model\n",
    "model.fit(X_train, Y_train)\n",
    "\n",
    "# predicting the test set results\n",
    "Y_pred = model.predict(X_test)\n",
    "\n",
    "# Calculating the accuracies\n",
    "print(\"Training accuracy :\", model.score(X_train, Y_train))\n",
    "print(\"Testing accuarcy :\", model.score(X_test, Y_test))\n",
    "\n",
    "# classification report\n",
    "cr = classification_report(Y_test, Y_pred)\n",
    "\n",
    "print(cr)\n",
    "\n",
    "# confusion matrix \n",
    "cm = confusion_matrix(Y_test, Y_pred)\n",
    "print(cm)\n",
    "\n",
    "sum_mat1 = np.sum(cm, axis=1)\n",
    "cm1 = cm/sum_mat1[:,None]\n",
    "sns.heatmap(cm1, annot=True, cmap=\"Blues\")\n",
    "\n",
    "plt.xlabel(\"Predicted Label\")\n",
    "plt.ylabel(\"True Label\")\n",
    "plt.title(\"Normalized Confusion Matrix of SVC\")\n",
    "plt.savefig('11.png',facecolor='w')\n",
    "\n",
    "plt.show()\n"
   ]
  },
  {
   "cell_type": "code",
   "execution_count": 28,
   "id": "f950fa3b",
   "metadata": {},
   "outputs": [
    {
     "data": {
      "text/plain": [
       "30"
      ]
     },
     "execution_count": 28,
     "metadata": {},
     "output_type": "execute_result"
    }
   ],
   "source": [
    "len(tree.feature_importances_)"
   ]
  },
  {
   "cell_type": "code",
   "execution_count": null,
   "id": "213dca23",
   "metadata": {},
   "outputs": [],
   "source": []
  }
 ],
 "metadata": {
  "kernelspec": {
   "display_name": "Python 3",
   "language": "python",
   "name": "python3"
  },
  "language_info": {
   "codemirror_mode": {
    "name": "ipython",
    "version": 3
   },
   "file_extension": ".py",
   "mimetype": "text/x-python",
   "name": "python",
   "nbconvert_exporter": "python",
   "pygments_lexer": "ipython3",
   "version": "3.8.10"
  }
 },
 "nbformat": 4,
 "nbformat_minor": 5
}
