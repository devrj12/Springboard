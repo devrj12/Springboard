{
 "cells": [
  {
   "cell_type": "markdown",
   "id": "04939023",
   "metadata": {},
   "source": [
    "# Capstone Two: Preprocessing and Training\n"
   ]
  },
  {
   "cell_type": "code",
   "execution_count": 1,
   "id": "fd013790",
   "metadata": {},
   "outputs": [],
   "source": [
    "# Import libraries\n",
    "import pandas as pd\n",
    "pd.options.mode.chained_assignment = None  # default='warn'\n",
    "\n",
    "import os\n",
    "from sklearn.preprocessing import MaxAbsScaler\n",
    "import matplotlib.pyplot as plt\n",
    "\n",
    "#suppress future warnings\n",
    "import warnings\n",
    "warnings.simplefilter(action='ignore', category=FutureWarning)\n",
    "warnings.simplefilter(action='ignore', category=UserWarning)\n",
    "\n",
    "# Show plots inline\n",
    "%matplotlib inline"
   ]
  },
  {
   "cell_type": "code",
   "execution_count": 2,
   "id": "6949b622",
   "metadata": {},
   "outputs": [],
   "source": [
    "path1 = '/home/kc3pve/Desktop/Spring-Git/Springboard'\n",
    "dir2 = path1 + '/' + 'Credit/data/'"
   ]
  },
  {
   "cell_type": "code",
   "execution_count": 3,
   "id": "710c6342",
   "metadata": {},
   "outputs": [
    {
     "data": {
      "text/plain": [
       "'/home/kc3pve/Desktop/Spring-Git/Springboard/Credit/data/'"
      ]
     },
     "execution_count": 3,
     "metadata": {},
     "output_type": "execute_result"
    }
   ],
   "source": [
    "dir2"
   ]
  },
  {
   "cell_type": "code",
   "execution_count": 4,
   "id": "bf39083f",
   "metadata": {},
   "outputs": [],
   "source": [
    "app_rec2 = dir2  +'app_rec2.csv'\n",
    "cre_rec2_g = dir2  +'cre_rec2_g.csv'"
   ]
  },
  {
   "cell_type": "code",
   "execution_count": 5,
   "id": "5d23ae19",
   "metadata": {},
   "outputs": [],
   "source": [
    "app_rec3 = pd.read_csv(app_rec2)\n",
    "cre_rec3 = pd.read_csv(cre_rec2_g)"
   ]
  },
  {
   "cell_type": "code",
   "execution_count": 6,
   "id": "7436734c",
   "metadata": {},
   "outputs": [
    {
     "data": {
      "text/plain": [
       "9516"
      ]
     },
     "execution_count": 6,
     "metadata": {},
     "output_type": "execute_result"
    }
   ],
   "source": [
    "# Now we join two data sets but before which we check the common 'elements'\n",
    "len(set(app_rec3['ID']).intersection(set(cre_rec3['ID'])))"
   ]
  },
  {
   "cell_type": "code",
   "execution_count": 7,
   "id": "1963e9cc",
   "metadata": {},
   "outputs": [
    {
     "data": {
      "text/html": [
       "<div>\n",
       "<style scoped>\n",
       "    .dataframe tbody tr th:only-of-type {\n",
       "        vertical-align: middle;\n",
       "    }\n",
       "\n",
       "    .dataframe tbody tr th {\n",
       "        vertical-align: top;\n",
       "    }\n",
       "\n",
       "    .dataframe thead th {\n",
       "        text-align: right;\n",
       "    }\n",
       "</style>\n",
       "<table border=\"1\" class=\"dataframe\">\n",
       "  <thead>\n",
       "    <tr style=\"text-align: right;\">\n",
       "      <th></th>\n",
       "      <th>ID</th>\n",
       "      <th>CODE_GENDER</th>\n",
       "      <th>FLAG_OWN_CAR</th>\n",
       "      <th>FLAG_OWN_REALTY</th>\n",
       "      <th>CNT_CHILDREN</th>\n",
       "      <th>AMT_INCOME_TOTAL</th>\n",
       "      <th>NAME_INCOME_TYPE</th>\n",
       "      <th>NAME_EDUCATION_TYPE</th>\n",
       "      <th>NAME_FAMILY_STATUS</th>\n",
       "      <th>NAME_HOUSING_TYPE</th>\n",
       "      <th>DAYS_BIRTH</th>\n",
       "      <th>DAYS_EMPLOYED</th>\n",
       "      <th>CNT_FAM_MEMBERS</th>\n",
       "      <th>MONTHS_BALANCE</th>\n",
       "      <th>STATUS</th>\n",
       "    </tr>\n",
       "  </thead>\n",
       "  <tbody>\n",
       "    <tr>\n",
       "      <th>0</th>\n",
       "      <td>5008838</td>\n",
       "      <td>1</td>\n",
       "      <td>0</td>\n",
       "      <td>1</td>\n",
       "      <td>1</td>\n",
       "      <td>405000.0</td>\n",
       "      <td>0</td>\n",
       "      <td>1</td>\n",
       "      <td>1</td>\n",
       "      <td>1</td>\n",
       "      <td>-11842</td>\n",
       "      <td>-2016</td>\n",
       "      <td>3.0</td>\n",
       "      <td>-9</td>\n",
       "      <td>0</td>\n",
       "    </tr>\n",
       "    <tr>\n",
       "      <th>1</th>\n",
       "      <td>5008839</td>\n",
       "      <td>1</td>\n",
       "      <td>0</td>\n",
       "      <td>1</td>\n",
       "      <td>1</td>\n",
       "      <td>405000.0</td>\n",
       "      <td>0</td>\n",
       "      <td>1</td>\n",
       "      <td>1</td>\n",
       "      <td>1</td>\n",
       "      <td>-11842</td>\n",
       "      <td>-2016</td>\n",
       "      <td>3.0</td>\n",
       "      <td>0</td>\n",
       "      <td>0</td>\n",
       "    </tr>\n",
       "    <tr>\n",
       "      <th>2</th>\n",
       "      <td>5008840</td>\n",
       "      <td>1</td>\n",
       "      <td>0</td>\n",
       "      <td>1</td>\n",
       "      <td>1</td>\n",
       "      <td>405000.0</td>\n",
       "      <td>0</td>\n",
       "      <td>1</td>\n",
       "      <td>1</td>\n",
       "      <td>1</td>\n",
       "      <td>-11842</td>\n",
       "      <td>-2016</td>\n",
       "      <td>3.0</td>\n",
       "      <td>0</td>\n",
       "      <td>0</td>\n",
       "    </tr>\n",
       "    <tr>\n",
       "      <th>3</th>\n",
       "      <td>5008841</td>\n",
       "      <td>1</td>\n",
       "      <td>0</td>\n",
       "      <td>1</td>\n",
       "      <td>1</td>\n",
       "      <td>405000.0</td>\n",
       "      <td>0</td>\n",
       "      <td>1</td>\n",
       "      <td>1</td>\n",
       "      <td>1</td>\n",
       "      <td>-11842</td>\n",
       "      <td>-2016</td>\n",
       "      <td>3.0</td>\n",
       "      <td>0</td>\n",
       "      <td>0</td>\n",
       "    </tr>\n",
       "    <tr>\n",
       "      <th>4</th>\n",
       "      <td>5008842</td>\n",
       "      <td>1</td>\n",
       "      <td>0</td>\n",
       "      <td>1</td>\n",
       "      <td>1</td>\n",
       "      <td>405000.0</td>\n",
       "      <td>0</td>\n",
       "      <td>1</td>\n",
       "      <td>1</td>\n",
       "      <td>1</td>\n",
       "      <td>-11842</td>\n",
       "      <td>-2016</td>\n",
       "      <td>3.0</td>\n",
       "      <td>0</td>\n",
       "      <td>0</td>\n",
       "    </tr>\n",
       "  </tbody>\n",
       "</table>\n",
       "</div>"
      ],
      "text/plain": [
       "        ID  CODE_GENDER  FLAG_OWN_CAR  FLAG_OWN_REALTY  CNT_CHILDREN  \\\n",
       "0  5008838            1             0                1             1   \n",
       "1  5008839            1             0                1             1   \n",
       "2  5008840            1             0                1             1   \n",
       "3  5008841            1             0                1             1   \n",
       "4  5008842            1             0                1             1   \n",
       "\n",
       "   AMT_INCOME_TOTAL  NAME_INCOME_TYPE  NAME_EDUCATION_TYPE  \\\n",
       "0          405000.0                 0                    1   \n",
       "1          405000.0                 0                    1   \n",
       "2          405000.0                 0                    1   \n",
       "3          405000.0                 0                    1   \n",
       "4          405000.0                 0                    1   \n",
       "\n",
       "   NAME_FAMILY_STATUS  NAME_HOUSING_TYPE  DAYS_BIRTH  DAYS_EMPLOYED  \\\n",
       "0                   1                  1      -11842          -2016   \n",
       "1                   1                  1      -11842          -2016   \n",
       "2                   1                  1      -11842          -2016   \n",
       "3                   1                  1      -11842          -2016   \n",
       "4                   1                  1      -11842          -2016   \n",
       "\n",
       "   CNT_FAM_MEMBERS  MONTHS_BALANCE  STATUS  \n",
       "0              3.0              -9       0  \n",
       "1              3.0               0       0  \n",
       "2              3.0               0       0  \n",
       "3              3.0               0       0  \n",
       "4              3.0               0       0  "
      ]
     },
     "execution_count": 7,
     "metadata": {},
     "output_type": "execute_result"
    }
   ],
   "source": [
    "n_data = app_rec3.join(cre_rec3.set_index('ID'), on='ID', how='inner')\n",
    "#n_data.drop(['MONTHS_BALANCE'], axis=1, inplace=True)\n",
    "n_data.head()"
   ]
  },
  {
   "cell_type": "code",
   "execution_count": 8,
   "id": "a45754b4",
   "metadata": {},
   "outputs": [
    {
     "data": {
      "text/plain": [
       "(9516, 15)"
      ]
     },
     "execution_count": 8,
     "metadata": {},
     "output_type": "execute_result"
    }
   ],
   "source": [
    "# Check the shape !\n",
    "n_data.shape"
   ]
  },
  {
   "cell_type": "code",
   "execution_count": 9,
   "id": "3cd037b1",
   "metadata": {},
   "outputs": [
    {
     "name": "stdout",
     "output_type": "stream",
     "text": [
      "<class 'pandas.core.frame.DataFrame'>\n",
      "Int64Index: 9516 entries, 0 to 113342\n",
      "Data columns (total 15 columns):\n",
      " #   Column               Non-Null Count  Dtype  \n",
      "---  ------               --------------  -----  \n",
      " 0   ID                   9516 non-null   int64  \n",
      " 1   CODE_GENDER          9516 non-null   int64  \n",
      " 2   FLAG_OWN_CAR         9516 non-null   int64  \n",
      " 3   FLAG_OWN_REALTY      9516 non-null   int64  \n",
      " 4   CNT_CHILDREN         9516 non-null   int64  \n",
      " 5   AMT_INCOME_TOTAL     9516 non-null   float64\n",
      " 6   NAME_INCOME_TYPE     9516 non-null   int64  \n",
      " 7   NAME_EDUCATION_TYPE  9516 non-null   int64  \n",
      " 8   NAME_FAMILY_STATUS   9516 non-null   int64  \n",
      " 9   NAME_HOUSING_TYPE    9516 non-null   int64  \n",
      " 10  DAYS_BIRTH           9516 non-null   int64  \n",
      " 11  DAYS_EMPLOYED        9516 non-null   int64  \n",
      " 12  CNT_FAM_MEMBERS      9516 non-null   float64\n",
      " 13  MONTHS_BALANCE       9516 non-null   int64  \n",
      " 14  STATUS               9516 non-null   int64  \n",
      "dtypes: float64(2), int64(13)\n",
      "memory usage: 1.2 MB\n"
     ]
    }
   ],
   "source": [
    "# The data set has reduced\n",
    "n_data.info()"
   ]
  },
  {
   "cell_type": "code",
   "execution_count": 10,
   "id": "01f9c78e",
   "metadata": {},
   "outputs": [
    {
     "data": {
      "text/plain": [
       "0    87.967633\n",
       "1    12.032367\n",
       "Name: STATUS, dtype: float64"
      ]
     },
     "execution_count": 10,
     "metadata": {},
     "output_type": "execute_result"
    }
   ],
   "source": [
    "# Let's check the status\n",
    "n_data['STATUS'].value_counts(normalize=True)*100\n"
   ]
  },
  {
   "cell_type": "code",
   "execution_count": 11,
   "id": "da212bba",
   "metadata": {},
   "outputs": [
    {
     "data": {
      "text/plain": [
       "0         0\n",
       "1         0\n",
       "2         0\n",
       "3         0\n",
       "4         0\n",
       "         ..\n",
       "113338    1\n",
       "113339    1\n",
       "113340    1\n",
       "113341    1\n",
       "113342    1\n",
       "Name: STATUS, Length: 9516, dtype: int64"
      ]
     },
     "execution_count": 11,
     "metadata": {},
     "output_type": "execute_result"
    }
   ],
   "source": [
    "# The creditworthy category has larger population than the non-creditworthy. So, it suffers oversampling which\n",
    "# could be corrected either by decreasing the first category or by increasing the second category. Decreasing the \n",
    "#first category isn't good as it will lead to further loss of data. So, we choose to increase the second type \n",
    "#of datausing SMOTE (Synthetic Minority Over-sampling Technique). This technique helps to \"generate\" new data \n",
    "#and avoid overfitting the model.\n",
    "X1 = n_data.iloc[:,1:-1] # X1 value contains all the variables except labels\n",
    "Y1 = n_data.iloc[:,-1] # these are the labels\n",
    "Y1"
   ]
  },
  {
   "cell_type": "code",
   "execution_count": 12,
   "id": "02c6f3a7",
   "metadata": {},
   "outputs": [
    {
     "data": {
      "text/plain": [
       "<AxesSubplot:ylabel='Frequency'>"
      ]
     },
     "execution_count": 12,
     "metadata": {},
     "output_type": "execute_result"
    },
    {
     "data": {
      "image/png": "[encoded data removed]",
      "text/plain": [
       "<Figure size 432x288 with 1 Axes>"
      ]
     },
     "metadata": {
      "needs_background": "light"
     },
     "output_type": "display_data"
    }
   ],
   "source": [
    "Y1.plot(kind='hist')"
   ]
  },
  {
   "cell_type": "code",
   "execution_count": 13,
   "id": "d541bc8d",
   "metadata": {},
   "outputs": [],
   "source": [
    "# We divide the data into those that will be used to train the model \n",
    "# and those that will be used to predict approval : 70 % for training and 30 % for testing.\n",
    "\n",
    "from sklearn.model_selection import train_test_split\n",
    "X1_train, X1_test, Y1_train, Y1_test = train_test_split(X1, Y1, test_size=0.3)"
   ]
  },
  {
   "cell_type": "code",
   "execution_count": 14,
   "id": "b4a4bfbb",
   "metadata": {},
   "outputs": [
    {
     "data": {
      "text/plain": [
       "(6661, 13)"
      ]
     },
     "execution_count": 14,
     "metadata": {},
     "output_type": "execute_result"
    }
   ],
   "source": [
    "X1_train.shape"
   ]
  },
  {
   "cell_type": "code",
   "execution_count": 15,
   "id": "346e9c9d",
   "metadata": {},
   "outputs": [
    {
     "data": {
      "text/plain": [
       "(2855, 13)"
      ]
     },
     "execution_count": 15,
     "metadata": {},
     "output_type": "execute_result"
    }
   ],
   "source": [
    "X1_test.shape"
   ]
  },
  {
   "cell_type": "code",
   "execution_count": 26,
   "id": "2ef7a4e6",
   "metadata": {},
   "outputs": [],
   "source": [
    "# Now, we apply the SMOTE algorithm to make up for the lack of data\n",
    "from imblearn.over_sampling import SMOTE\n",
    "\n",
    "oversample = SMOTE()\n",
    "X1_new, Y1_new = oversample.fit_resample(X1_train, Y1_train)\n",
    "X1_test_new, Y1_test_new = oversample.fit_resample(X1_test, Y1_test)"
   ]
  },
  {
   "cell_type": "code",
   "execution_count": 27,
   "id": "48492a40",
   "metadata": {},
   "outputs": [
    {
     "data": {
      "text/plain": [
       "(11710,)"
      ]
     },
     "execution_count": 27,
     "metadata": {},
     "output_type": "execute_result"
    }
   ],
   "source": [
    "Y1_new.shape"
   ]
  },
  {
   "cell_type": "code",
   "execution_count": 28,
   "id": "8368d28a",
   "metadata": {},
   "outputs": [
    {
     "data": {
      "text/plain": [
       "(9516,)"
      ]
     },
     "execution_count": 28,
     "metadata": {},
     "output_type": "execute_result"
    }
   ],
   "source": [
    "Y1.shape"
   ]
  },
  {
   "cell_type": "code",
   "execution_count": 19,
   "id": "59d3e7d9",
   "metadata": {},
   "outputs": [
    {
     "data": {
      "text/plain": [
       "<AxesSubplot:ylabel='Frequency'>"
      ]
     },
     "execution_count": 19,
     "metadata": {},
     "output_type": "execute_result"
    },
    {
     "data": {
      "image/png": "[encoded data removed]",
      "text/plain": [
       "<Figure size 432x288 with 1 Axes>"
      ]
     },
     "metadata": {
      "needs_background": "light"
     },
     "output_type": "display_data"
    }
   ],
   "source": [
    "Y1_new.plot(kind='hist')"
   ]
  },
  {
   "cell_type": "code",
   "execution_count": 22,
   "id": "4f0b7c0f",
   "metadata": {},
   "outputs": [
    {
     "name": "stdout",
     "output_type": "stream",
     "text": [
      "0    5855\n",
      "1     806\n",
      "Name: STATUS, dtype: int64 \n",
      "\n",
      " 1    5855\n",
      "0    5855\n",
      "Name: STATUS, dtype: int64\n"
     ]
    }
   ],
   "source": [
    "a = Y1_train.value_counts()\n",
    "b = Y1_new.value_counts()\n",
    "print(a, \"\\n\\n\", b)"
   ]
  },
  {
   "cell_type": "code",
   "execution_count": 24,
   "id": "38137285",
   "metadata": {},
   "outputs": [
    {
     "name": "stdout",
     "output_type": "stream",
     "text": [
      "0    2516\n",
      "1     339\n",
      "Name: STATUS, dtype: int64 \n",
      "\n",
      " 0    2516\n",
      "1    2516\n",
      "Name: STATUS, dtype: int64\n"
     ]
    }
   ],
   "source": [
    "a = Y1_test.value_counts()\n",
    "b = Y1_test_new.value_counts()\n",
    "print(a, \"\\n\\n\", b)"
   ]
  },
  {
   "cell_type": "code",
   "execution_count": 31,
   "id": "0e7961aa",
   "metadata": {},
   "outputs": [
    {
     "data": {
      "text/plain": [
       "<AxesSubplot:ylabel='Frequency'>"
      ]
     },
     "execution_count": 31,
     "metadata": {},
     "output_type": "execute_result"
    },
    {
     "data": {
      "image/png": "[encoded data removed]",
      "text/plain": [
       "<Figure size 432x288 with 1 Axes>"
      ]
     },
     "metadata": {
      "needs_background": "light"
     },
     "output_type": "display_data"
    }
   ],
   "source": [
    "# So, this shows the SMOTE algorithm has helped to address the lack of data\n",
    "Y1_test_new.plot(kind='hist')"
   ]
  },
  {
   "cell_type": "code",
   "execution_count": null,
   "id": "d9699d3d",
   "metadata": {},
   "outputs": [],
   "source": []
  }
 ],
 "metadata": {
  "kernelspec": {
   "display_name": "Python 3",
   "language": "python",
   "name": "python3"
  },
  "language_info": {
   "codemirror_mode": {
    "name": "ipython",
    "version": 3
   },
   "file_extension": ".py",
   "mimetype": "text/x-python",
   "name": "python",
   "nbconvert_exporter": "python",
   "pygments_lexer": "ipython3",
   "version": "3.8.10"
  }
 },
 "nbformat": 4,
 "nbformat_minor": 5
}
