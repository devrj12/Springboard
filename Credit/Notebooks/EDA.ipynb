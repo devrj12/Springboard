{
 "cells": [
  {
   "cell_type": "markdown",
   "id": "81ae203d",
   "metadata": {},
   "source": [
    "# Capstone Two: EDA"
   ]
  },
  {
   "cell_type": "code",
   "execution_count": 1,
   "id": "071a2cae",
   "metadata": {},
   "outputs": [],
   "source": [
    "import os\n",
    "import numpy as np \n",
    "import pandas as pd \n",
    "import matplotlib.pyplot as plt \n",
    "import seaborn as sns\n",
    "\n",
    "#suppress future warnings\n",
    "import warnings\n",
    "warnings.simplefilter(action='ignore', category=FutureWarning)\n",
    "warnings.simplefilter(action='ignore', category=UserWarning)\n",
    "\n",
    "# Show plots inline\n",
    "%matplotlib inline"
   ]
  },
  {
   "cell_type": "code",
   "execution_count": 2,
   "id": "767fd7d3",
   "metadata": {},
   "outputs": [],
   "source": [
    "#import sys\n",
    "#!{sys.executable} -m pip install stem"
   ]
  },
  {
   "cell_type": "code",
   "execution_count": 8,
   "id": "3e4ca88d",
   "metadata": {},
   "outputs": [],
   "source": [
    "path1 = os.getcwd()"
   ]
  },
  {
   "cell_type": "code",
   "execution_count": 20,
   "id": "2514f99d",
   "metadata": {},
   "outputs": [],
   "source": [
    "path2 = path1[:-10]"
   ]
  },
  {
   "cell_type": "code",
   "execution_count": 21,
   "id": "08732933",
   "metadata": {},
   "outputs": [
    {
     "data": {
      "text/plain": [
       "'/home/kc3pve/Desktop/Spring-Git/Springboard/Credit'"
      ]
     },
     "execution_count": 21,
     "metadata": {},
     "output_type": "execute_result"
    }
   ],
   "source": [
    "path2"
   ]
  },
  {
   "cell_type": "code",
   "execution_count": 22,
   "id": "09fab536",
   "metadata": {},
   "outputs": [],
   "source": [
    "path3 = path2 +'/' +'data'"
   ]
  },
  {
   "cell_type": "code",
   "execution_count": 23,
   "id": "1c4b7510",
   "metadata": {},
   "outputs": [
    {
     "data": {
      "text/plain": [
       "'/home/kc3pve/Desktop/Spring-Git/Springboard/Credit/data'"
      ]
     },
     "execution_count": 23,
     "metadata": {},
     "output_type": "execute_result"
    }
   ],
   "source": [
    "path3"
   ]
  },
  {
   "cell_type": "code",
   "execution_count": 30,
   "id": "ffb1b1c5",
   "metadata": {},
   "outputs": [],
   "source": [
    "X_df1 = path3 + '/' +'X_df.csv'\n",
    "Y_df1 = path3 + '/' +'Y_df.csv'"
   ]
  },
  {
   "cell_type": "code",
   "execution_count": 32,
   "id": "dbbb5e6e",
   "metadata": {},
   "outputs": [],
   "source": [
    "X_df2 = pd.read_csv(X_df1)\n",
    "Y_df2 = pd.read_csv(Y_df1)"
   ]
  },
  {
   "cell_type": "code",
   "execution_count": 29,
   "id": "7234927b",
   "metadata": {},
   "outputs": [
    {
     "data": {
      "text/html": [
       "<div>\n",
       "<style scoped>\n",
       "    .dataframe tbody tr th:only-of-type {\n",
       "        vertical-align: middle;\n",
       "    }\n",
       "\n",
       "    .dataframe tbody tr th {\n",
       "        vertical-align: top;\n",
       "    }\n",
       "\n",
       "    .dataframe thead th {\n",
       "        text-align: right;\n",
       "    }\n",
       "</style>\n",
       "<table border=\"1\" class=\"dataframe\">\n",
       "  <thead>\n",
       "    <tr style=\"text-align: right;\">\n",
       "      <th></th>\n",
       "      <th>Unnamed: 0</th>\n",
       "      <th>CODE_GENDER</th>\n",
       "      <th>FLAG_OWN_CAR</th>\n",
       "      <th>FLAG_OWN_REALTY</th>\n",
       "      <th>CNT_CHILDREN</th>\n",
       "      <th>AMT_INCOME_TOTAL</th>\n",
       "      <th>NAME_INCOME_TYPE</th>\n",
       "      <th>NAME_EDUCATION_TYPE</th>\n",
       "      <th>NAME_FAMILY_STATUS</th>\n",
       "      <th>NAME_HOUSING_TYPE</th>\n",
       "      <th>DAYS_BIRTH</th>\n",
       "      <th>DAYS_EMPLOYED</th>\n",
       "      <th>CNT_FAM_MEMBERS</th>\n",
       "    </tr>\n",
       "  </thead>\n",
       "  <tbody>\n",
       "    <tr>\n",
       "      <th>0</th>\n",
       "      <td>0</td>\n",
       "      <td>1</td>\n",
       "      <td>0</td>\n",
       "      <td>1</td>\n",
       "      <td>1</td>\n",
       "      <td>126000.000000</td>\n",
       "      <td>4</td>\n",
       "      <td>4</td>\n",
       "      <td>0</td>\n",
       "      <td>1</td>\n",
       "      <td>-12301</td>\n",
       "      <td>-140</td>\n",
       "      <td>3.0</td>\n",
       "    </tr>\n",
       "    <tr>\n",
       "      <th>1</th>\n",
       "      <td>1</td>\n",
       "      <td>1</td>\n",
       "      <td>0</td>\n",
       "      <td>1</td>\n",
       "      <td>2</td>\n",
       "      <td>337500.000000</td>\n",
       "      <td>0</td>\n",
       "      <td>4</td>\n",
       "      <td>1</td>\n",
       "      <td>1</td>\n",
       "      <td>-9732</td>\n",
       "      <td>-134</td>\n",
       "      <td>4.0</td>\n",
       "    </tr>\n",
       "    <tr>\n",
       "      <th>2</th>\n",
       "      <td>2</td>\n",
       "      <td>0</td>\n",
       "      <td>0</td>\n",
       "      <td>1</td>\n",
       "      <td>1</td>\n",
       "      <td>90000.000000</td>\n",
       "      <td>4</td>\n",
       "      <td>1</td>\n",
       "      <td>1</td>\n",
       "      <td>1</td>\n",
       "      <td>-13546</td>\n",
       "      <td>-3373</td>\n",
       "      <td>3.0</td>\n",
       "    </tr>\n",
       "    <tr>\n",
       "      <th>3</th>\n",
       "      <td>3</td>\n",
       "      <td>1</td>\n",
       "      <td>1</td>\n",
       "      <td>1</td>\n",
       "      <td>1</td>\n",
       "      <td>157500.000000</td>\n",
       "      <td>4</td>\n",
       "      <td>4</td>\n",
       "      <td>1</td>\n",
       "      <td>1</td>\n",
       "      <td>-17991</td>\n",
       "      <td>-3304</td>\n",
       "      <td>3.0</td>\n",
       "    </tr>\n",
       "    <tr>\n",
       "      <th>4</th>\n",
       "      <td>4</td>\n",
       "      <td>1</td>\n",
       "      <td>1</td>\n",
       "      <td>0</td>\n",
       "      <td>1</td>\n",
       "      <td>315000.000000</td>\n",
       "      <td>0</td>\n",
       "      <td>1</td>\n",
       "      <td>1</td>\n",
       "      <td>5</td>\n",
       "      <td>-11689</td>\n",
       "      <td>-716</td>\n",
       "      <td>3.0</td>\n",
       "    </tr>\n",
       "    <tr>\n",
       "      <th>...</th>\n",
       "      <td>...</td>\n",
       "      <td>...</td>\n",
       "      <td>...</td>\n",
       "      <td>...</td>\n",
       "      <td>...</td>\n",
       "      <td>...</td>\n",
       "      <td>...</td>\n",
       "      <td>...</td>\n",
       "      <td>...</td>\n",
       "      <td>...</td>\n",
       "      <td>...</td>\n",
       "      <td>...</td>\n",
       "      <td>...</td>\n",
       "    </tr>\n",
       "    <tr>\n",
       "      <th>16737</th>\n",
       "      <td>4983</td>\n",
       "      <td>1</td>\n",
       "      <td>0</td>\n",
       "      <td>0</td>\n",
       "      <td>1</td>\n",
       "      <td>335439.925489</td>\n",
       "      <td>0</td>\n",
       "      <td>1</td>\n",
       "      <td>1</td>\n",
       "      <td>1</td>\n",
       "      <td>-16632</td>\n",
       "      <td>-2493</td>\n",
       "      <td>3.0</td>\n",
       "    </tr>\n",
       "    <tr>\n",
       "      <th>16738</th>\n",
       "      <td>4984</td>\n",
       "      <td>0</td>\n",
       "      <td>0</td>\n",
       "      <td>1</td>\n",
       "      <td>1</td>\n",
       "      <td>202500.000000</td>\n",
       "      <td>0</td>\n",
       "      <td>4</td>\n",
       "      <td>1</td>\n",
       "      <td>1</td>\n",
       "      <td>-14653</td>\n",
       "      <td>-314</td>\n",
       "      <td>3.0</td>\n",
       "    </tr>\n",
       "    <tr>\n",
       "      <th>16739</th>\n",
       "      <td>4985</td>\n",
       "      <td>1</td>\n",
       "      <td>1</td>\n",
       "      <td>0</td>\n",
       "      <td>1</td>\n",
       "      <td>180000.000000</td>\n",
       "      <td>4</td>\n",
       "      <td>4</td>\n",
       "      <td>1</td>\n",
       "      <td>1</td>\n",
       "      <td>-15391</td>\n",
       "      <td>-958</td>\n",
       "      <td>3.0</td>\n",
       "    </tr>\n",
       "    <tr>\n",
       "      <th>16740</th>\n",
       "      <td>4986</td>\n",
       "      <td>1</td>\n",
       "      <td>1</td>\n",
       "      <td>1</td>\n",
       "      <td>2</td>\n",
       "      <td>211500.000000</td>\n",
       "      <td>4</td>\n",
       "      <td>4</td>\n",
       "      <td>1</td>\n",
       "      <td>1</td>\n",
       "      <td>-10435</td>\n",
       "      <td>-2987</td>\n",
       "      <td>4.0</td>\n",
       "    </tr>\n",
       "    <tr>\n",
       "      <th>16741</th>\n",
       "      <td>4987</td>\n",
       "      <td>0</td>\n",
       "      <td>0</td>\n",
       "      <td>1</td>\n",
       "      <td>1</td>\n",
       "      <td>76500.000000</td>\n",
       "      <td>1</td>\n",
       "      <td>4</td>\n",
       "      <td>1</td>\n",
       "      <td>1</td>\n",
       "      <td>-20442</td>\n",
       "      <td>365243</td>\n",
       "      <td>3.0</td>\n",
       "    </tr>\n",
       "  </tbody>\n",
       "</table>\n",
       "<p>16742 rows × 13 columns</p>\n",
       "</div>"
      ],
      "text/plain": [
       "       Unnamed: 0  CODE_GENDER  FLAG_OWN_CAR  FLAG_OWN_REALTY  CNT_CHILDREN  \\\n",
       "0               0            1             0                1             1   \n",
       "1               1            1             0                1             2   \n",
       "2               2            0             0                1             1   \n",
       "3               3            1             1                1             1   \n",
       "4               4            1             1                0             1   \n",
       "...           ...          ...           ...              ...           ...   \n",
       "16737        4983            1             0                0             1   \n",
       "16738        4984            0             0                1             1   \n",
       "16739        4985            1             1                0             1   \n",
       "16740        4986            1             1                1             2   \n",
       "16741        4987            0             0                1             1   \n",
       "\n",
       "       AMT_INCOME_TOTAL  NAME_INCOME_TYPE  NAME_EDUCATION_TYPE  \\\n",
       "0         126000.000000                 4                    4   \n",
       "1         337500.000000                 0                    4   \n",
       "2          90000.000000                 4                    1   \n",
       "3         157500.000000                 4                    4   \n",
       "4         315000.000000                 0                    1   \n",
       "...                 ...               ...                  ...   \n",
       "16737     335439.925489                 0                    1   \n",
       "16738     202500.000000                 0                    4   \n",
       "16739     180000.000000                 4                    4   \n",
       "16740     211500.000000                 4                    4   \n",
       "16741      76500.000000                 1                    4   \n",
       "\n",
       "       NAME_FAMILY_STATUS  NAME_HOUSING_TYPE  DAYS_BIRTH  DAYS_EMPLOYED  \\\n",
       "0                       0                  1      -12301           -140   \n",
       "1                       1                  1       -9732           -134   \n",
       "2                       1                  1      -13546          -3373   \n",
       "3                       1                  1      -17991          -3304   \n",
       "4                       1                  5      -11689           -716   \n",
       "...                   ...                ...         ...            ...   \n",
       "16737                   1                  1      -16632          -2493   \n",
       "16738                   1                  1      -14653           -314   \n",
       "16739                   1                  1      -15391           -958   \n",
       "16740                   1                  1      -10435          -2987   \n",
       "16741                   1                  1      -20442         365243   \n",
       "\n",
       "       CNT_FAM_MEMBERS  \n",
       "0                  3.0  \n",
       "1                  4.0  \n",
       "2                  3.0  \n",
       "3                  3.0  \n",
       "4                  3.0  \n",
       "...                ...  \n",
       "16737              3.0  \n",
       "16738              3.0  \n",
       "16739              3.0  \n",
       "16740              4.0  \n",
       "16741              3.0  \n",
       "\n",
       "[16742 rows x 13 columns]"
      ]
     },
     "execution_count": 29,
     "metadata": {},
     "output_type": "execute_result"
    }
   ],
   "source": [
    "X_df2"
   ]
  },
  {
   "cell_type": "code",
   "execution_count": 33,
   "id": "a8291f55",
   "metadata": {},
   "outputs": [
    {
     "data": {
      "text/html": [
       "<div>\n",
       "<style scoped>\n",
       "    .dataframe tbody tr th:only-of-type {\n",
       "        vertical-align: middle;\n",
       "    }\n",
       "\n",
       "    .dataframe tbody tr th {\n",
       "        vertical-align: top;\n",
       "    }\n",
       "\n",
       "    .dataframe thead th {\n",
       "        text-align: right;\n",
       "    }\n",
       "</style>\n",
       "<table border=\"1\" class=\"dataframe\">\n",
       "  <thead>\n",
       "    <tr style=\"text-align: right;\">\n",
       "      <th></th>\n",
       "      <th>Unnamed: 0</th>\n",
       "      <th>STATUS</th>\n",
       "    </tr>\n",
       "  </thead>\n",
       "  <tbody>\n",
       "    <tr>\n",
       "      <th>0</th>\n",
       "      <td>0</td>\n",
       "      <td>0</td>\n",
       "    </tr>\n",
       "    <tr>\n",
       "      <th>1</th>\n",
       "      <td>1</td>\n",
       "      <td>0</td>\n",
       "    </tr>\n",
       "    <tr>\n",
       "      <th>2</th>\n",
       "      <td>2</td>\n",
       "      <td>0</td>\n",
       "    </tr>\n",
       "    <tr>\n",
       "      <th>3</th>\n",
       "      <td>3</td>\n",
       "      <td>0</td>\n",
       "    </tr>\n",
       "    <tr>\n",
       "      <th>4</th>\n",
       "      <td>4</td>\n",
       "      <td>0</td>\n",
       "    </tr>\n",
       "    <tr>\n",
       "      <th>...</th>\n",
       "      <td>...</td>\n",
       "      <td>...</td>\n",
       "    </tr>\n",
       "    <tr>\n",
       "      <th>16737</th>\n",
       "      <td>4983</td>\n",
       "      <td>1</td>\n",
       "    </tr>\n",
       "    <tr>\n",
       "      <th>16738</th>\n",
       "      <td>4984</td>\n",
       "      <td>1</td>\n",
       "    </tr>\n",
       "    <tr>\n",
       "      <th>16739</th>\n",
       "      <td>4985</td>\n",
       "      <td>1</td>\n",
       "    </tr>\n",
       "    <tr>\n",
       "      <th>16740</th>\n",
       "      <td>4986</td>\n",
       "      <td>1</td>\n",
       "    </tr>\n",
       "    <tr>\n",
       "      <th>16741</th>\n",
       "      <td>4987</td>\n",
       "      <td>1</td>\n",
       "    </tr>\n",
       "  </tbody>\n",
       "</table>\n",
       "<p>16742 rows × 2 columns</p>\n",
       "</div>"
      ],
      "text/plain": [
       "       Unnamed: 0  STATUS\n",
       "0               0       0\n",
       "1               1       0\n",
       "2               2       0\n",
       "3               3       0\n",
       "4               4       0\n",
       "...           ...     ...\n",
       "16737        4983       1\n",
       "16738        4984       1\n",
       "16739        4985       1\n",
       "16740        4986       1\n",
       "16741        4987       1\n",
       "\n",
       "[16742 rows x 2 columns]"
      ]
     },
     "execution_count": 33,
     "metadata": {},
     "output_type": "execute_result"
    }
   ],
   "source": [
    "Y_df2"
   ]
  },
  {
   "cell_type": "code",
   "execution_count": 34,
   "id": "86f5e6d0",
   "metadata": {},
   "outputs": [
    {
     "data": {
      "text/html": [
       "<div>\n",
       "<style scoped>\n",
       "    .dataframe tbody tr th:only-of-type {\n",
       "        vertical-align: middle;\n",
       "    }\n",
       "\n",
       "    .dataframe tbody tr th {\n",
       "        vertical-align: top;\n",
       "    }\n",
       "\n",
       "    .dataframe thead th {\n",
       "        text-align: right;\n",
       "    }\n",
       "</style>\n",
       "<table border=\"1\" class=\"dataframe\">\n",
       "  <thead>\n",
       "    <tr style=\"text-align: right;\">\n",
       "      <th></th>\n",
       "      <th>Unnamed: 0</th>\n",
       "      <th>STATUS</th>\n",
       "    </tr>\n",
       "  </thead>\n",
       "  <tbody>\n",
       "    <tr>\n",
       "      <th>0</th>\n",
       "      <td>0</td>\n",
       "      <td>0</td>\n",
       "    </tr>\n",
       "    <tr>\n",
       "      <th>1</th>\n",
       "      <td>1</td>\n",
       "      <td>0</td>\n",
       "    </tr>\n",
       "    <tr>\n",
       "      <th>2</th>\n",
       "      <td>2</td>\n",
       "      <td>0</td>\n",
       "    </tr>\n",
       "    <tr>\n",
       "      <th>3</th>\n",
       "      <td>3</td>\n",
       "      <td>0</td>\n",
       "    </tr>\n",
       "    <tr>\n",
       "      <th>4</th>\n",
       "      <td>4</td>\n",
       "      <td>0</td>\n",
       "    </tr>\n",
       "  </tbody>\n",
       "</table>\n",
       "</div>"
      ],
      "text/plain": [
       "   Unnamed: 0  STATUS\n",
       "0           0       0\n",
       "1           1       0\n",
       "2           2       0\n",
       "3           3       0\n",
       "4           4       0"
      ]
     },
     "execution_count": 34,
     "metadata": {},
     "output_type": "execute_result"
    }
   ],
   "source": [
    "Y_df2.head()"
   ]
  },
  {
   "cell_type": "code",
   "execution_count": 35,
   "id": "e89e52a8",
   "metadata": {},
   "outputs": [
    {
     "data": {
      "text/plain": [
       "(16742, 13)"
      ]
     },
     "metadata": {},
     "output_type": "display_data"
    }
   ],
   "source": [
    "display(X_df2.shape)\n"
   ]
  },
  {
   "cell_type": "code",
   "execution_count": 36,
   "id": "726a6cdf",
   "metadata": {},
   "outputs": [
    {
     "data": {
      "text/plain": [
       "(16742, 2)"
      ]
     },
     "metadata": {},
     "output_type": "display_data"
    }
   ],
   "source": [
    "display(Y_df2.shape)\n"
   ]
  },
  {
   "cell_type": "code",
   "execution_count": 37,
   "id": "2f0079bf",
   "metadata": {},
   "outputs": [
    {
     "data": {
      "text/plain": [
       "Index(['Unnamed: 0', 'CODE_GENDER', 'FLAG_OWN_CAR', 'FLAG_OWN_REALTY',\n",
       "       'CNT_CHILDREN', 'AMT_INCOME_TOTAL', 'NAME_INCOME_TYPE',\n",
       "       'NAME_EDUCATION_TYPE', 'NAME_FAMILY_STATUS', 'NAME_HOUSING_TYPE',\n",
       "       'DAYS_BIRTH', 'DAYS_EMPLOYED', 'CNT_FAM_MEMBERS'],\n",
       "      dtype='object')"
      ]
     },
     "execution_count": 37,
     "metadata": {},
     "output_type": "execute_result"
    }
   ],
   "source": [
    "X_df2.columns"
   ]
  },
  {
   "cell_type": "code",
   "execution_count": 38,
   "id": "1a2fa9a3",
   "metadata": {},
   "outputs": [
    {
     "data": {
      "text/plain": [
       "Index(['Unnamed: 0', 'STATUS'], dtype='object')"
      ]
     },
     "execution_count": 38,
     "metadata": {},
     "output_type": "execute_result"
    }
   ],
   "source": [
    "Y_df2.columns"
   ]
  },
  {
   "cell_type": "code",
   "execution_count": 40,
   "id": "f8798305",
   "metadata": {},
   "outputs": [
    {
     "data": {
      "text/plain": [
       "Unnamed: 0               int64\n",
       "CODE_GENDER              int64\n",
       "FLAG_OWN_CAR             int64\n",
       "FLAG_OWN_REALTY          int64\n",
       "CNT_CHILDREN             int64\n",
       "AMT_INCOME_TOTAL       float64\n",
       "NAME_INCOME_TYPE         int64\n",
       "NAME_EDUCATION_TYPE      int64\n",
       "NAME_FAMILY_STATUS       int64\n",
       "NAME_HOUSING_TYPE        int64\n",
       "DAYS_BIRTH               int64\n",
       "DAYS_EMPLOYED            int64\n",
       "CNT_FAM_MEMBERS        float64\n",
       "dtype: object"
      ]
     },
     "execution_count": 40,
     "metadata": {},
     "output_type": "execute_result"
    }
   ],
   "source": [
    "X_df2.dtypes\n"
   ]
  },
  {
   "cell_type": "code",
   "execution_count": 41,
   "id": "0a389d86",
   "metadata": {},
   "outputs": [
    {
     "data": {
      "text/plain": [
       "Unnamed: 0    int64\n",
       "STATUS        int64\n",
       "dtype: object"
      ]
     },
     "execution_count": 41,
     "metadata": {},
     "output_type": "execute_result"
    }
   ],
   "source": [
    "Y_df2.dtypes"
   ]
  },
  {
   "cell_type": "markdown",
   "id": "b58fcb46",
   "metadata": {},
   "source": [
    "# Summary Statistics"
   ]
  },
  {
   "cell_type": "code",
   "execution_count": 44,
   "id": "d6294359",
   "metadata": {},
   "outputs": [
    {
     "data": {
      "text/html": [
       "<div>\n",
       "<style scoped>\n",
       "    .dataframe tbody tr th:only-of-type {\n",
       "        vertical-align: middle;\n",
       "    }\n",
       "\n",
       "    .dataframe tbody tr th {\n",
       "        vertical-align: top;\n",
       "    }\n",
       "\n",
       "    .dataframe thead th {\n",
       "        text-align: right;\n",
       "    }\n",
       "</style>\n",
       "<table border=\"1\" class=\"dataframe\">\n",
       "  <thead>\n",
       "    <tr style=\"text-align: right;\">\n",
       "      <th></th>\n",
       "      <th>count</th>\n",
       "      <th>mean</th>\n",
       "      <th>std</th>\n",
       "      <th>min</th>\n",
       "      <th>25%</th>\n",
       "      <th>50%</th>\n",
       "      <th>75%</th>\n",
       "      <th>max</th>\n",
       "    </tr>\n",
       "  </thead>\n",
       "  <tbody>\n",
       "    <tr>\n",
       "      <th>Unnamed: 0</th>\n",
       "      <td>16742.0</td>\n",
       "      <td>4868.591506</td>\n",
       "      <td>3330.942790</td>\n",
       "      <td>0.0</td>\n",
       "      <td>2092.25</td>\n",
       "      <td>4185.0</td>\n",
       "      <td>7567.75</td>\n",
       "      <td>11753.0</td>\n",
       "    </tr>\n",
       "    <tr>\n",
       "      <th>CODE_GENDER</th>\n",
       "      <td>16742.0</td>\n",
       "      <td>0.351451</td>\n",
       "      <td>0.477438</td>\n",
       "      <td>0.0</td>\n",
       "      <td>0.00</td>\n",
       "      <td>0.0</td>\n",
       "      <td>1.00</td>\n",
       "      <td>1.0</td>\n",
       "    </tr>\n",
       "    <tr>\n",
       "      <th>FLAG_OWN_CAR</th>\n",
       "      <td>16742.0</td>\n",
       "      <td>0.386991</td>\n",
       "      <td>0.487076</td>\n",
       "      <td>0.0</td>\n",
       "      <td>0.00</td>\n",
       "      <td>0.0</td>\n",
       "      <td>1.00</td>\n",
       "      <td>1.0</td>\n",
       "    </tr>\n",
       "    <tr>\n",
       "      <th>FLAG_OWN_REALTY</th>\n",
       "      <td>16742.0</td>\n",
       "      <td>0.565046</td>\n",
       "      <td>0.495766</td>\n",
       "      <td>0.0</td>\n",
       "      <td>0.00</td>\n",
       "      <td>1.0</td>\n",
       "      <td>1.00</td>\n",
       "      <td>1.0</td>\n",
       "    </tr>\n",
       "    <tr>\n",
       "      <th>CNT_CHILDREN</th>\n",
       "      <td>16742.0</td>\n",
       "      <td>1.300024</td>\n",
       "      <td>0.463595</td>\n",
       "      <td>1.0</td>\n",
       "      <td>1.00</td>\n",
       "      <td>1.0</td>\n",
       "      <td>2.00</td>\n",
       "      <td>3.0</td>\n",
       "    </tr>\n",
       "    <tr>\n",
       "      <th>AMT_INCOME_TOTAL</th>\n",
       "      <td>16742.0</td>\n",
       "      <td>195657.940057</td>\n",
       "      <td>109302.892651</td>\n",
       "      <td>45000.0</td>\n",
       "      <td>135000.00</td>\n",
       "      <td>166500.0</td>\n",
       "      <td>225000.00</td>\n",
       "      <td>900000.0</td>\n",
       "    </tr>\n",
       "    <tr>\n",
       "      <th>NAME_INCOME_TYPE</th>\n",
       "      <td>16742.0</td>\n",
       "      <td>2.558715</td>\n",
       "      <td>1.706038</td>\n",
       "      <td>0.0</td>\n",
       "      <td>1.00</td>\n",
       "      <td>4.0</td>\n",
       "      <td>4.00</td>\n",
       "      <td>4.0</td>\n",
       "    </tr>\n",
       "    <tr>\n",
       "      <th>NAME_EDUCATION_TYPE</th>\n",
       "      <td>16742.0</td>\n",
       "      <td>2.896309</td>\n",
       "      <td>1.349060</td>\n",
       "      <td>0.0</td>\n",
       "      <td>1.00</td>\n",
       "      <td>4.0</td>\n",
       "      <td>4.00</td>\n",
       "      <td>4.0</td>\n",
       "    </tr>\n",
       "    <tr>\n",
       "      <th>NAME_FAMILY_STATUS</th>\n",
       "      <td>16742.0</td>\n",
       "      <td>0.908016</td>\n",
       "      <td>0.422639</td>\n",
       "      <td>0.0</td>\n",
       "      <td>1.00</td>\n",
       "      <td>1.0</td>\n",
       "      <td>1.00</td>\n",
       "      <td>4.0</td>\n",
       "    </tr>\n",
       "    <tr>\n",
       "      <th>NAME_HOUSING_TYPE</th>\n",
       "      <td>16742.0</td>\n",
       "      <td>1.299785</td>\n",
       "      <td>0.941905</td>\n",
       "      <td>0.0</td>\n",
       "      <td>1.00</td>\n",
       "      <td>1.0</td>\n",
       "      <td>1.00</td>\n",
       "      <td>5.0</td>\n",
       "    </tr>\n",
       "    <tr>\n",
       "      <th>DAYS_BIRTH</th>\n",
       "      <td>16742.0</td>\n",
       "      <td>-13362.270995</td>\n",
       "      <td>2435.721936</td>\n",
       "      <td>-25010.0</td>\n",
       "      <td>-14955.75</td>\n",
       "      <td>-13154.5</td>\n",
       "      <td>-11459.00</td>\n",
       "      <td>-7980.0</td>\n",
       "    </tr>\n",
       "    <tr>\n",
       "      <th>DAYS_EMPLOYED</th>\n",
       "      <td>16742.0</td>\n",
       "      <td>5178.681520</td>\n",
       "      <td>52029.394782</td>\n",
       "      <td>-14473.0</td>\n",
       "      <td>-3189.25</td>\n",
       "      <td>-1816.0</td>\n",
       "      <td>-926.00</td>\n",
       "      <td>365243.0</td>\n",
       "    </tr>\n",
       "    <tr>\n",
       "      <th>CNT_FAM_MEMBERS</th>\n",
       "      <td>16742.0</td>\n",
       "      <td>3.352752</td>\n",
       "      <td>0.452147</td>\n",
       "      <td>3.0</td>\n",
       "      <td>3.00</td>\n",
       "      <td>3.0</td>\n",
       "      <td>4.00</td>\n",
       "      <td>4.0</td>\n",
       "    </tr>\n",
       "  </tbody>\n",
       "</table>\n",
       "</div>"
      ],
      "text/plain": [
       "                       count           mean            std      min  \\\n",
       "Unnamed: 0           16742.0    4868.591506    3330.942790      0.0   \n",
       "CODE_GENDER          16742.0       0.351451       0.477438      0.0   \n",
       "FLAG_OWN_CAR         16742.0       0.386991       0.487076      0.0   \n",
       "FLAG_OWN_REALTY      16742.0       0.565046       0.495766      0.0   \n",
       "CNT_CHILDREN         16742.0       1.300024       0.463595      1.0   \n",
       "AMT_INCOME_TOTAL     16742.0  195657.940057  109302.892651  45000.0   \n",
       "NAME_INCOME_TYPE     16742.0       2.558715       1.706038      0.0   \n",
       "NAME_EDUCATION_TYPE  16742.0       2.896309       1.349060      0.0   \n",
       "NAME_FAMILY_STATUS   16742.0       0.908016       0.422639      0.0   \n",
       "NAME_HOUSING_TYPE    16742.0       1.299785       0.941905      0.0   \n",
       "DAYS_BIRTH           16742.0  -13362.270995    2435.721936 -25010.0   \n",
       "DAYS_EMPLOYED        16742.0    5178.681520   52029.394782 -14473.0   \n",
       "CNT_FAM_MEMBERS      16742.0       3.352752       0.452147      3.0   \n",
       "\n",
       "                           25%       50%        75%       max  \n",
       "Unnamed: 0             2092.25    4185.0    7567.75   11753.0  \n",
       "CODE_GENDER               0.00       0.0       1.00       1.0  \n",
       "FLAG_OWN_CAR              0.00       0.0       1.00       1.0  \n",
       "FLAG_OWN_REALTY           0.00       1.0       1.00       1.0  \n",
       "CNT_CHILDREN              1.00       1.0       2.00       3.0  \n",
       "AMT_INCOME_TOTAL     135000.00  166500.0  225000.00  900000.0  \n",
       "NAME_INCOME_TYPE          1.00       4.0       4.00       4.0  \n",
       "NAME_EDUCATION_TYPE       1.00       4.0       4.00       4.0  \n",
       "NAME_FAMILY_STATUS        1.00       1.0       1.00       4.0  \n",
       "NAME_HOUSING_TYPE         1.00       1.0       1.00       5.0  \n",
       "DAYS_BIRTH           -14955.75  -13154.5  -11459.00   -7980.0  \n",
       "DAYS_EMPLOYED         -3189.25   -1816.0    -926.00  365243.0  \n",
       "CNT_FAM_MEMBERS           3.00       3.0       4.00       4.0  "
      ]
     },
     "execution_count": 44,
     "metadata": {},
     "output_type": "execute_result"
    }
   ],
   "source": [
    "X_df2.describe().transpose()\n"
   ]
  },
  {
   "cell_type": "markdown",
   "id": "90e03ab6",
   "metadata": {},
   "source": [
    "Insights:\n",
    "\n",
    "● \n",
    "\n",
    "●  \n",
    "\n",
    "● \n",
    "\n",
    "Potential Issues:\n",
    "\n",
    "● \n",
    "\n",
    "●  \n",
    "\n",
    "● "
   ]
  },
  {
   "cell_type": "code",
   "execution_count": 52,
   "id": "78de04c3",
   "metadata": {},
   "outputs": [
    {
     "data": {
      "text/plain": [
       "0        0\n",
       "1        1\n",
       "2        1\n",
       "3        1\n",
       "4        1\n",
       "        ..\n",
       "16737    1\n",
       "16738    1\n",
       "16739    1\n",
       "16740    1\n",
       "16741    1\n",
       "Name: NAME_FAMILY_STATUS, Length: 16742, dtype: int64"
      ]
     },
     "execution_count": 52,
     "metadata": {},
     "output_type": "execute_result"
    }
   ],
   "source": [
    "X_df2['NAME_FAMILY_STATUS']"
   ]
  },
  {
   "cell_type": "code",
   "execution_count": 53,
   "id": "107af331",
   "metadata": {},
   "outputs": [
    {
     "data": {
      "text/plain": [
       "0        126000.000000\n",
       "1        337500.000000\n",
       "2         90000.000000\n",
       "3        157500.000000\n",
       "4        315000.000000\n",
       "             ...      \n",
       "16737    335439.925489\n",
       "16738    202500.000000\n",
       "16739    180000.000000\n",
       "16740    211500.000000\n",
       "16741     76500.000000\n",
       "Name: AMT_INCOME_TOTAL, Length: 16742, dtype: float64"
      ]
     },
     "execution_count": 53,
     "metadata": {},
     "output_type": "execute_result"
    }
   ],
   "source": [
    "X_df2['AMT_INCOME_TOTAL']\t"
   ]
  },
  {
   "cell_type": "code",
   "execution_count": 54,
   "id": "892f3e70",
   "metadata": {},
   "outputs": [
    {
     "data": {
      "text/plain": [
       "0        4\n",
       "1        0\n",
       "2        4\n",
       "3        4\n",
       "4        0\n",
       "        ..\n",
       "16737    0\n",
       "16738    0\n",
       "16739    4\n",
       "16740    4\n",
       "16741    1\n",
       "Name: NAME_INCOME_TYPE, Length: 16742, dtype: int64"
      ]
     },
     "execution_count": 54,
     "metadata": {},
     "output_type": "execute_result"
    }
   ],
   "source": [
    "X_df2['NAME_INCOME_TYPE']"
   ]
  },
  {
   "cell_type": "code",
   "execution_count": 55,
   "id": "d0125c4e",
   "metadata": {},
   "outputs": [
    {
     "data": {
      "text/plain": [
       "0          -140\n",
       "1          -134\n",
       "2         -3373\n",
       "3         -3304\n",
       "4          -716\n",
       "          ...  \n",
       "16737     -2493\n",
       "16738      -314\n",
       "16739      -958\n",
       "16740     -2987\n",
       "16741    365243\n",
       "Name: DAYS_EMPLOYED, Length: 16742, dtype: int64"
      ]
     },
     "execution_count": 55,
     "metadata": {},
     "output_type": "execute_result"
    }
   ],
   "source": [
    "X_df2['DAYS_EMPLOYED']"
   ]
  },
  {
   "cell_type": "code",
   "execution_count": 58,
   "id": "65953f09",
   "metadata": {},
   "outputs": [
    {
     "data": {
      "text/plain": [
       "0        3.0\n",
       "1        4.0\n",
       "2        3.0\n",
       "3        3.0\n",
       "4        3.0\n",
       "        ... \n",
       "16737    3.0\n",
       "16738    3.0\n",
       "16739    3.0\n",
       "16740    4.0\n",
       "16741    3.0\n",
       "Name: CNT_FAM_MEMBERS, Length: 16742, dtype: float64"
      ]
     },
     "execution_count": 58,
     "metadata": {},
     "output_type": "execute_result"
    }
   ],
   "source": [
    "X_df2['CNT_FAM_MEMBERS']"
   ]
  },
  {
   "cell_type": "code",
   "execution_count": 69,
   "id": "d4798e6d",
   "metadata": {},
   "outputs": [
    {
     "data": {
      "text/html": [
       "<div>\n",
       "<style scoped>\n",
       "    .dataframe tbody tr th:only-of-type {\n",
       "        vertical-align: middle;\n",
       "    }\n",
       "\n",
       "    .dataframe tbody tr th {\n",
       "        vertical-align: top;\n",
       "    }\n",
       "\n",
       "    .dataframe thead th {\n",
       "        text-align: right;\n",
       "    }\n",
       "</style>\n",
       "<table border=\"1\" class=\"dataframe\">\n",
       "  <thead>\n",
       "    <tr style=\"text-align: right;\">\n",
       "      <th></th>\n",
       "      <th>count</th>\n",
       "      <th>mean</th>\n",
       "      <th>std</th>\n",
       "      <th>min</th>\n",
       "      <th>25%</th>\n",
       "      <th>50%</th>\n",
       "      <th>75%</th>\n",
       "      <th>max</th>\n",
       "    </tr>\n",
       "  </thead>\n",
       "  <tbody>\n",
       "    <tr>\n",
       "      <th>Unnamed: 0</th>\n",
       "      <td>16742.0</td>\n",
       "      <td>4868.591506</td>\n",
       "      <td>3330.942790</td>\n",
       "      <td>0.0</td>\n",
       "      <td>2092.25</td>\n",
       "      <td>4185.0</td>\n",
       "      <td>7567.75</td>\n",
       "      <td>11753.0</td>\n",
       "    </tr>\n",
       "    <tr>\n",
       "      <th>STATUS</th>\n",
       "      <td>16742.0</td>\n",
       "      <td>0.500000</td>\n",
       "      <td>0.500015</td>\n",
       "      <td>0.0</td>\n",
       "      <td>0.00</td>\n",
       "      <td>0.5</td>\n",
       "      <td>1.00</td>\n",
       "      <td>1.0</td>\n",
       "    </tr>\n",
       "  </tbody>\n",
       "</table>\n",
       "</div>"
      ],
      "text/plain": [
       "              count         mean          std  min      25%     50%      75%  \\\n",
       "Unnamed: 0  16742.0  4868.591506  3330.942790  0.0  2092.25  4185.0  7567.75   \n",
       "STATUS      16742.0     0.500000     0.500015  0.0     0.00     0.5     1.00   \n",
       "\n",
       "                max  \n",
       "Unnamed: 0  11753.0  \n",
       "STATUS          1.0  "
      ]
     },
     "execution_count": 69,
     "metadata": {},
     "output_type": "execute_result"
    }
   ],
   "source": [
    "Y_df2.describe().transpose()\n",
    "\n",
    "#Y_df2"
   ]
  },
  {
   "cell_type": "code",
   "execution_count": 68,
   "id": "205fda7c",
   "metadata": {},
   "outputs": [
    {
     "data": {
      "text/plain": [
       "0        0\n",
       "1        0\n",
       "2        0\n",
       "3        0\n",
       "4        0\n",
       "        ..\n",
       "16737    1\n",
       "16738    1\n",
       "16739    1\n",
       "16740    1\n",
       "16741    1\n",
       "Name: STATUS, Length: 16742, dtype: int64"
      ]
     },
     "execution_count": 68,
     "metadata": {},
     "output_type": "execute_result"
    }
   ],
   "source": [
    "#0: 1-29 days past due 1: 30-59 days past due \n",
    "#2: 60-89 days overdue 3: 90-119 days overdue \n",
    "#4: 120-149 days overdue 5: Overdue or bad debts, write-offs for more than 150 days \n",
    "#C: paid off that month \n",
    "#X: No loan for the month\n",
    "\n",
    "Y_df2['STATUS']"
   ]
  },
  {
   "cell_type": "code",
   "execution_count": null,
   "id": "ed6a2a0d",
   "metadata": {},
   "outputs": [],
   "source": []
  }
 ],
 "metadata": {
  "kernelspec": {
   "display_name": "Python 3",
   "language": "python",
   "name": "python3"
  },
  "language_info": {
   "codemirror_mode": {
    "name": "ipython",
    "version": 3
   },
   "file_extension": ".py",
   "mimetype": "text/x-python",
   "name": "python",
   "nbconvert_exporter": "python",
   "pygments_lexer": "ipython3",
   "version": "3.8.10"
  }
 },
 "nbformat": 4,
 "nbformat_minor": 5
}
