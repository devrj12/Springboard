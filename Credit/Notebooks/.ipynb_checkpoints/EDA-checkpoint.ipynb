{
 "cells": [
  {
   "cell_type": "markdown",
   "id": "7b1e9e42",
   "metadata": {},
   "source": [
    "# Capstone Two: EDA"
   ]
  },
  {
   "cell_type": "code",
   "execution_count": 1,
   "id": "e145b89d",
   "metadata": {},
   "outputs": [],
   "source": [
    "import os\n",
    "import numpy as np \n",
    "import pandas as pd \n",
    "import matplotlib.pyplot as plt \n",
    "import seaborn as sns\n",
    "\n",
    "#suppress future warnings\n",
    "import warnings\n",
    "warnings.simplefilter(action='ignore', category=FutureWarning)\n",
    "warnings.simplefilter(action='ignore', category=UserWarning)\n",
    "\n",
    "# Show plots inline\n",
    "%matplotlib inline"
   ]
  },
  {
   "cell_type": "code",
   "execution_count": 2,
   "id": "f5754190",
   "metadata": {},
   "outputs": [],
   "source": [
    "#import sys\n",
    "#!{sys.executable} -m pip install stem"
   ]
  },
  {
   "cell_type": "code",
   "execution_count": 4,
   "id": "abf9c42f",
   "metadata": {},
   "outputs": [],
   "source": [
    "path1 = os.getcwd()\n"
   ]
  },
  {
   "cell_type": "code",
   "execution_count": null,
   "id": "8b55255d",
   "metadata": {},
   "outputs": [],
   "source": [
    " X_df_1 = 'C:\\\\Shalin\\\\Springboard bootcamp\\\\projects\\\\Capstone project 2\\\\Capstone Two\\\\data\\\\Quora_cleaned.csv'\n"
   ]
  }
 ],
 "metadata": {
  "kernelspec": {
   "display_name": "Python 3",
   "language": "python",
   "name": "python3"
  },
  "language_info": {
   "codemirror_mode": {
    "name": "ipython",
    "version": 3
   },
   "file_extension": ".py",
   "mimetype": "text/x-python",
   "name": "python",
   "nbconvert_exporter": "python",
   "pygments_lexer": "ipython3",
   "version": "3.8.10"
  }
 },
 "nbformat": 4,
 "nbformat_minor": 5
}
