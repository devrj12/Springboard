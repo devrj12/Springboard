{
 "cells": [
  {
   "cell_type": "markdown",
   "id": "dd344c0b",
   "metadata": {},
   "source": [
    "# Capstone Two: Modeling"
   ]
  },
  {
   "cell_type": "code",
   "execution_count": 1,
   "id": "85d03620",
   "metadata": {},
   "outputs": [],
   "source": [
    "# Import libraries\n",
    "import numpy as np\n",
    "import pandas as pd\n",
    "import seaborn as sbn\n",
    "import itertools\n",
    "import matplotlib.pyplot as plt\n",
    "import os\n",
    "import seaborn as sns\n",
    "from sklearn.ensemble import RandomForestClassifier\n",
    "from sklearn.model_selection import GridSearchCV,\\\n",
    "RandomizedSearchCV\n",
    "\n",
    "import warnings\n",
    "warnings.filterwarnings('ignore')"
   ]
  },
  {
   "cell_type": "code",
   "execution_count": 2,
   "id": "264ddca3",
   "metadata": {},
   "outputs": [],
   "source": [
    "# Import data\n",
    "dir2 = '/home/kc3pve/Desktop/Spring-Git/Springboard/Credit/data/'\n",
    "X1_train_new = dir2  + 'X1_train_new.csv'\n",
    "Y1_train_new = dir2  + 'Y1_train_new.csv'\n",
    "X1_test_new  = dir2  + 'X1_test_new.csv'\n",
    "Y1_test_new  = dir2  + 'Y1_test_new.csv'"
   ]
  },
  {
   "cell_type": "code",
   "execution_count": 3,
   "id": "535b6d49",
   "metadata": {},
   "outputs": [],
   "source": [
    "# Name them\n",
    "X1_train_new = pd.read_csv(X1_train_new)\n",
    "Y1_train_new = pd.read_csv(Y1_train_new)\n",
    "X1_test_new  = pd.read_csv(X1_test_new)\n",
    "Y1_test_new  = pd.read_csv(Y1_test_new)"
   ]
  },
  {
   "cell_type": "code",
   "execution_count": 4,
   "id": "943914f7",
   "metadata": {},
   "outputs": [
    {
     "data": {
      "text/plain": [
       "(11736, 13)"
      ]
     },
     "execution_count": 4,
     "metadata": {},
     "output_type": "execute_result"
    }
   ],
   "source": [
    "X1_train_new.shape"
   ]
  },
  {
   "cell_type": "code",
   "execution_count": 5,
   "id": "0e3218b1",
   "metadata": {},
   "outputs": [
    {
     "data": {
      "image/png": "[encoded data removed]",
      "text/plain": [
       "<Figure size 432x288 with 2 Axes>"
      ]
     },
     "metadata": {
      "needs_background": "light"
     },
     "output_type": "display_data"
    },
    {
     "name": "stdout",
     "output_type": "stream",
     "text": [
      "Accuracy Score is 0.8078306\n",
      "          0         1\n",
      "0  0.895725  0.104275\n",
      "1  0.280064  0.719936\n"
     ]
    }
   ],
   "source": [
    "from sklearn.tree import DecisionTreeClassifier\n",
    "\n",
    "from sklearn.metrics import accuracy_score, confusion_matrix\n",
    "from sklearn.model_selection import train_test_split\n",
    "\n",
    "model = DecisionTreeClassifier(max_depth=16,\n",
    "                               min_samples_split=8,\n",
    "                               random_state=1024)\n",
    "\n",
    "model.fit(X1_train_new, Y1_train_new)\n",
    "Y1_predict = model.predict(X1_test_new)\n",
    "\n",
    "cm1a = confusion_matrix(Y1_test_new,Y1_predict)\n",
    "sum_mat1 = np.sum(cm1a, axis=1)\n",
    "cm1 = cm1a/sum_mat1[0]\n",
    "sns.heatmap(cm1, annot=True, cmap=\"Blues\")\n",
    "\n",
    "plt.xlabel(\"Predicted Label\")\n",
    "plt.ylabel(\"True Label\")\n",
    "plt.title(\"Normalized Confusion Matrix of Decision Tree\")\n",
    "plt.show()\n",
    "\n",
    "print('Accuracy Score is {:.7}'.format(accuracy_score(Y1_test_new, Y1_predict)))\n",
    "print(pd.DataFrame(cm1))\n"
   ]
  },
  {
   "cell_type": "code",
   "execution_count": 22,
   "id": "e2742a41",
   "metadata": {},
   "outputs": [
    {
     "data": {
      "image/png": "[encoded data removed]",
      "text/plain": [
       "<Figure size 432x288 with 2 Axes>"
      ]
     },
     "metadata": {
      "needs_background": "light"
     },
     "output_type": "display_data"
    },
    {
     "name": "stdout",
     "output_type": "stream",
     "text": [
      "Accuracy Score is 0.7936476\n",
      "              precision    recall  f1-score   support\n",
      "\n",
      "           0       0.92      0.73      0.82      3148\n",
      "           1       0.66      0.90      0.76      1858\n",
      "\n",
      "    accuracy                           0.79      5006\n",
      "   macro avg       0.79      0.81      0.79      5006\n",
      "weighted avg       0.83      0.79      0.80      5006\n",
      "\n"
     ]
    }
   ],
   "source": [
    "from sklearn.metrics import classification_report\n",
    "from sklearn.ensemble import RandomForestClassifier\n",
    "\n",
    "model = RandomForestClassifier(n_estimators=150,\n",
    "                              max_depth=16,\n",
    "                              min_samples_leaf=12\n",
    "                              )\n",
    "\n",
    "model.fit(X1_train_new, Y1_train_new)\n",
    "Y1_predict = model.predict(X1_test_new)\n",
    "\n",
    "\n",
    "cm2a = confusion_matrix(Y1_test_new,Y1_predict)\n",
    "sum_mat2 = np.sum(cm2a, axis=1)\n",
    "cm2 = cm2a/sum_mat2[0]\n",
    "sns.heatmap(cm2, annot=True, cmap=\"Blues\")\n",
    "\n",
    "plt.xlabel(\"Predicted Label\")\n",
    "plt.ylabel(\"True Label\")\n",
    "plt.title(\"Normalized Confusion Matrix of Random Forest\")\n",
    "plt.show()\n",
    "\n",
    "print('Accuracy Score is {:.7}'.format(accuracy_score(Y1_test_new, Y1_predict)))\n",
    "#print(pd.DataFrame(cm2))\n",
    "\n",
    "print(classification_report(Y1_predict, Y1_test_new))\n",
    "\n"
   ]
  },
  {
   "cell_type": "code",
   "execution_count": 7,
   "id": "6fb389c3",
   "metadata": {},
   "outputs": [],
   "source": [
    "param_grid = {'n_estimators': [150, 200, 250, 300],\n",
    "    'max_depth': [12, 16, 20, 24],\n",
    "    'min_samples_leaf': [9, 12, 15, 18],}"
   ]
  },
  {
   "cell_type": "code",
   "execution_count": 8,
   "id": "b48ce2ad",
   "metadata": {},
   "outputs": [
    {
     "name": "stdout",
     "output_type": "stream",
     "text": [
      "RandomForestClassifier(max_depth=20, min_samples_leaf=9, n_estimators=300)\n"
     ]
    }
   ],
   "source": [
    "grid_search = GridSearchCV(RandomForestClassifier(),\n",
    "                           param_grid=param_grid)\n",
    "grid_search.fit(X1_train_new, Y1_train_new)\n",
    "print(grid_search.best_estimator_)"
   ]
  },
  {
   "cell_type": "code",
   "execution_count": 16,
   "id": "0fcbcbee",
   "metadata": {},
   "outputs": [
    {
     "name": "stdout",
     "output_type": "stream",
     "text": [
      "              precision    recall  f1-score   support\n",
      "\n",
      "           0       0.92      0.74      0.82      3100\n",
      "           1       0.68      0.90      0.77      1906\n",
      "\n",
      "    accuracy                           0.80      5006\n",
      "   macro avg       0.80      0.82      0.80      5006\n",
      "weighted avg       0.83      0.80      0.80      5006\n",
      "\n"
     ]
    }
   ],
   "source": [
    "model_grid = RandomForestClassifier(max_depth=20,\n",
    "                                    min_samples_leaf=9,\n",
    "                                    n_estimators=300)\n",
    "model_grid.fit(X1_train_new, Y1_train_new)\n",
    "y_pred_grid = model.predict(X1_test_new)\n",
    "print(classification_report(y_pred_grid, Y1_test_new))"
   ]
  },
  {
   "cell_type": "code",
   "execution_count": 19,
   "id": "c9a49b25",
   "metadata": {},
   "outputs": [
    {
     "data": {
      "text/plain": [
       "array([0, 0, 0, ..., 1, 1, 1])"
      ]
     },
     "execution_count": 19,
     "metadata": {},
     "output_type": "execute_result"
    }
   ],
   "source": [
    "y_pred_grid"
   ]
  },
  {
   "cell_type": "code",
   "execution_count": 20,
   "id": "4b4aa8d9",
   "metadata": {},
   "outputs": [
    {
     "data": {
      "text/plain": [
       "array([0, 0, 0, ..., 1, 1, 1])"
      ]
     },
     "execution_count": 20,
     "metadata": {},
     "output_type": "execute_result"
    }
   ],
   "source": [
    "Y1_predict "
   ]
  },
  {
   "cell_type": "code",
   "execution_count": 21,
   "id": "96856df6",
   "metadata": {},
   "outputs": [
    {
     "data": {
      "text/plain": [
       "array([0, 0, 0, ..., 0, 0, 0])"
      ]
     },
     "execution_count": 21,
     "metadata": {},
     "output_type": "execute_result"
    }
   ],
   "source": [
    "Y1_predict - y_pred_grid"
   ]
  },
  {
   "cell_type": "code",
   "execution_count": 17,
   "id": "84c96cd2",
   "metadata": {},
   "outputs": [
    {
     "data": {
      "text/plain": [
       "(5006,)"
      ]
     },
     "execution_count": 17,
     "metadata": {},
     "output_type": "execute_result"
    }
   ],
   "source": [
    "y_pred_grid.shape"
   ]
  },
  {
   "cell_type": "code",
   "execution_count": 18,
   "id": "02f5ba5c",
   "metadata": {},
   "outputs": [
    {
     "data": {
      "text/plain": [
       "(5006, 1)"
      ]
     },
     "execution_count": 18,
     "metadata": {},
     "output_type": "execute_result"
    }
   ],
   "source": [
    "Y1_test_new.shape"
   ]
  },
  {
   "cell_type": "code",
   "execution_count": null,
   "id": "2d860a77",
   "metadata": {},
   "outputs": [],
   "source": [
    "from sklearn.linear_model import LogisticRegression\n",
    "\n",
    "model = LogisticRegression(C=0.8,\n",
    "                           random_state=0,\n",
    "                           solver='lbfgs')\n",
    "\n",
    "\n",
    "model.fit(X1_train_new, Y1_train_new)\n",
    "Y1_predict = model.predict(X1_test_new)\n",
    "\n",
    "cm3a = confusion_matrix(Y1_test_new,Y1_predict)\n",
    "sum_mat3 = np.sum(cm3a, axis=1)\n",
    "cm3 = cm3a/sum_mat3[0]\n",
    "sns.heatmap(cm3, annot=True, cmap=\"Blues\")\n",
    "\n",
    "plt.xlabel(\"Predicted Label\")\n",
    "plt.ylabel(\"True Label\")\n",
    "plt.title(\"Normalized Confusion Matrix of Logsitic Regression\")\n",
    "plt.show()\n",
    "\n",
    "print('Accuracy Score is {:.7}'.format(accuracy_score(Y1_test_new, Y1_predict)))\n",
    "print(pd.DataFrame(cm3))\n",
    "\n"
   ]
  },
  {
   "cell_type": "markdown",
   "id": "4875949d",
   "metadata": {},
   "source": [
    "\n",
    "Based on the accuracy score, the Decision tree model is the most accurate"
   ]
  },
  {
   "cell_type": "code",
   "execution_count": null,
   "id": "608f80c1",
   "metadata": {},
   "outputs": [],
   "source": [
    "# plot_confusion_matrix is  used to output the confusion matrix which is a table used in machine learning tasks\n",
    "# to evaluate where errors were made in the model. The rows represent the classes that the results should have \n",
    "# been, and the columns represent the predictions we made. The table is helpful to see which predictions are wrong.\n",
    "\n",
    "## We used another approach to plot it, but the following function could also have been used.\n",
    "\n",
    "# def plot_confusion_matrix(cm, classes,\n",
    "#                           normalize=False,\n",
    "#                           title='Confusion matrix',\n",
    "#                           cmap=plt.cm.Blues):\n",
    "\n",
    "#    plt.imshow(cm, interpolation='nearest', cmap=cmap)\n",
    "#   plt.title(title)\n",
    "#    plt.colorbar()\n",
    "#    tick_marks = np.arange(len(classes))\n",
    "#    plt.xticks(tick_marks, classes, rotation=45)\n",
    "#    plt.yticks(tick_marks, classes)\n",
    "\n",
    "#    if normalize:\n",
    "#        cm = cm.astype('float') / cm.sum(axis=1)[:, np.newaxis]\n",
    "#        print(\"Normalized confusion matrix\")\n",
    "#    else:\n",
    "#        print('Confusion matrix, without normalization')\n",
    "\n",
    "#    print(cm)\n",
    "\n",
    "#    fmt = '.2f' if normalize else 'd'\n",
    "#    thresh = cm.max() / 2.\n",
    "#    for i, j in itertools.product(range(cm.shape[0]), range(cm.shape[1])):\n",
    "#        plt.text(j, i, format(cm[i, j], fmt),\n",
    "#                 horizontalalignment=\"center\",\n",
    "#                 color=\"white\" if cm[i, j] > thresh else \"black\")\n",
    "\n",
    "#    plt.tight_layout()\n",
    "#    plt.ylabel('True label')\n",
    "#    plt.xlabel('Predicted label')"
   ]
  }
 ],
 "metadata": {
  "kernelspec": {
   "display_name": "Python 3",
   "language": "python",
   "name": "python3"
  },
  "language_info": {
   "codemirror_mode": {
    "name": "ipython",
    "version": 3
   },
   "file_extension": ".py",
   "mimetype": "text/x-python",
   "name": "python",
   "nbconvert_exporter": "python",
   "pygments_lexer": "ipython3",
   "version": "3.8.10"
  }
 },
 "nbformat": 4,
 "nbformat_minor": 5
}
