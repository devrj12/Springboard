{
 "cells": [
  {
   "cell_type": "markdown",
   "id": "37f62e09",
   "metadata": {},
   "source": [
    "# Capstone Two: Modeling"
   ]
  },
  {
   "cell_type": "code",
   "execution_count": 18,
   "id": "cad3c17f",
   "metadata": {},
   "outputs": [],
   "source": [
    "# Import libraries\n",
    "import numpy as np\n",
    "import pandas as pd\n",
    "import seaborn as sbn\n",
    "import itertools\n",
    "import matplotlib.pyplot as plt\n",
    "import os\n",
    "import seaborn as sns\n",
    "from sklearn.ensemble import RandomForestClassifier\n",
    "from sklearn.model_selection import GridSearchCV,\\\n",
    "RandomizedSearchCV\n",
    "\n",
    "import warnings\n",
    "warnings.filterwarnings('ignore')"
   ]
  },
  {
   "cell_type": "code",
   "execution_count": 19,
   "id": "1a5ba1b6",
   "metadata": {},
   "outputs": [],
   "source": [
    "# Import data\n",
    "dir2 = '/home/kc3pve/Desktop/Spring-Git/Springboard/Credit/data/'\n",
    "X1_train_new = dir2  + 'X1_train_new.csv'\n",
    "Y1_train_new = dir2  + 'Y1_train_new.csv'\n",
    "X1_test_new  = dir2  + 'X1_test_new.csv'\n",
    "Y1_test_new  = dir2  + 'Y1_test_new.csv'"
   ]
  },
  {
   "cell_type": "code",
   "execution_count": 20,
   "id": "174d94f0",
   "metadata": {},
   "outputs": [],
   "source": [
    "# Name them\n",
    "X1_train_new = pd.read_csv(X1_train_new)\n",
    "Y1_train_new = pd.read_csv(Y1_train_new)\n",
    "X1_test_new  = pd.read_csv(X1_test_new)\n",
    "Y1_test_new  = pd.read_csv(Y1_test_new)"
   ]
  },
  {
   "cell_type": "code",
   "execution_count": 21,
   "id": "2849120b",
   "metadata": {},
   "outputs": [
    {
     "data": {
      "text/plain": [
       "(11730, 13)"
      ]
     },
     "execution_count": 21,
     "metadata": {},
     "output_type": "execute_result"
    }
   ],
   "source": [
    "X1_train_new.shape"
   ]
  },
  {
   "cell_type": "code",
   "execution_count": 22,
   "id": "a65fc1c5",
   "metadata": {},
   "outputs": [
    {
     "data": {
      "image/png": "[encoded data removed]",
      "text/plain": [
       "<Figure size 432x288 with 2 Axes>"
      ]
     },
     "metadata": {
      "needs_background": "light"
     },
     "output_type": "display_data"
    },
    {
     "name": "stdout",
     "output_type": "stream",
     "text": [
      "Accuracy Score is 0.7721468\n",
      "          0         1\n",
      "0  0.881883  0.118117\n",
      "1  0.337590  0.662410\n"
     ]
    }
   ],
   "source": [
    "from sklearn.tree import DecisionTreeClassifier\n",
    "\n",
    "from sklearn.metrics import accuracy_score, confusion_matrix\n",
    "from sklearn.model_selection import train_test_split\n",
    "\n",
    "model = DecisionTreeClassifier(max_depth=16,\n",
    "                               min_samples_split=8,\n",
    "                               random_state=1024)\n",
    "\n",
    "model.fit(X1_train_new, Y1_train_new)\n",
    "Y1_predict = model.predict(X1_test_new)\n",
    "\n",
    "cm1a = confusion_matrix(Y1_test_new,Y1_predict)\n",
    "sum_mat1 = np.sum(cm1a, axis=1)\n",
    "cm1 = cm1a/sum_mat1[0]\n",
    "sns.heatmap(cm1, annot=True, cmap=\"Blues\")\n",
    "\n",
    "plt.xlabel(\"Predicted Label\")\n",
    "plt.ylabel(\"True Label\")\n",
    "plt.title(\"Normalized Confusion Matrix of Decision Tree\")\n",
    "plt.savefig('Image_5.png',facecolor='w')\n",
    "plt.show()\n",
    "\n",
    "print('Accuracy Score is {:.7}'.format(accuracy_score(Y1_test_new, Y1_predict)))\n",
    "print(pd.DataFrame(cm1))\n",
    "\n",
    "# plt.savefig('Image_5.png',facecolor='w')\n",
    "\n"
   ]
  },
  {
   "cell_type": "code",
   "execution_count": 23,
   "id": "5c23cc90",
   "metadata": {},
   "outputs": [
    {
     "data": {
      "image/png": "[encoded data removed]",
      "text/plain": [
       "<Figure size 432x288 with 2 Axes>"
      ]
     },
     "metadata": {
      "needs_background": "light"
     },
     "output_type": "display_data"
    },
    {
     "name": "stdout",
     "output_type": "stream",
     "text": [
      "Accuracy Score is 0.792498\n",
      "              precision    recall  f1-score   support\n",
      "\n",
      "           0       0.92      0.73      0.82      3122\n",
      "           1       0.67      0.89      0.76      1890\n",
      "\n",
      "    accuracy                           0.79      5012\n",
      "   macro avg       0.79      0.81      0.79      5012\n",
      "weighted avg       0.82      0.79      0.80      5012\n",
      "\n"
     ]
    }
   ],
   "source": [
    "from sklearn.metrics import classification_report\n",
    "from sklearn.ensemble import RandomForestClassifier\n",
    "\n",
    "model = RandomForestClassifier(n_estimators=150,\n",
    "                              max_depth=16,\n",
    "                              min_samples_leaf=12)\n",
    "\n",
    "model.fit(X1_train_new, Y1_train_new)\n",
    "Y1_predict = model.predict(X1_test_new)\n",
    "\n",
    "\n",
    "cm2a = confusion_matrix(Y1_test_new,Y1_predict)\n",
    "sum_mat2 = np.sum(cm2a, axis=1)\n",
    "cm2 = cm2a/sum_mat2[0]\n",
    "sns.heatmap(cm2, annot=True, cmap=\"Blues\")\n",
    "\n",
    "plt.xlabel(\"Predicted Label\")\n",
    "plt.ylabel(\"True Label\")\n",
    "plt.title(\"Normalized Confusion Matrix of Random Forest\")\n",
    "plt.savefig('Image_6.png',facecolor='w')\n",
    "plt.show()\n",
    "\n",
    "print('Accuracy Score is {:.7}'.format(accuracy_score(Y1_test_new, Y1_predict)))\n",
    "#print(pd.DataFrame(cm2))\n",
    "\n",
    "print(classification_report(Y1_predict, Y1_test_new))\n"
   ]
  },
  {
   "cell_type": "code",
   "execution_count": 24,
   "id": "4b70cc9e",
   "metadata": {},
   "outputs": [],
   "source": [
    "param_grid = {'n_estimators': [150, 200, 250, 300],\n",
    "    'max_depth': [12, 16, 20, 24],\n",
    "    'min_samples_leaf': [9, 12, 15, 18],}"
   ]
  },
  {
   "cell_type": "code",
   "execution_count": 25,
   "id": "9e7f77ea",
   "metadata": {},
   "outputs": [
    {
     "name": "stdout",
     "output_type": "stream",
     "text": [
      "RandomForestClassifier(max_depth=24, min_samples_leaf=9, n_estimators=250)\n"
     ]
    }
   ],
   "source": [
    "grid_search = GridSearchCV(RandomForestClassifier(),\n",
    "                           param_grid=param_grid)\n",
    "grid_search.fit(X1_train_new, Y1_train_new)\n",
    "print(grid_search.best_estimator_)"
   ]
  },
  {
   "cell_type": "code",
   "execution_count": 26,
   "id": "e550ed61",
   "metadata": {},
   "outputs": [
    {
     "name": "stdout",
     "output_type": "stream",
     "text": [
      "              precision    recall  f1-score   support\n",
      "\n",
      "           0       0.92      0.73      0.82      3122\n",
      "           1       0.67      0.89      0.76      1890\n",
      "\n",
      "    accuracy                           0.79      5012\n",
      "   macro avg       0.79      0.81      0.79      5012\n",
      "weighted avg       0.82      0.79      0.80      5012\n",
      "\n"
     ]
    }
   ],
   "source": [
    "model_grid = RandomForestClassifier(n_estimators= 250, \n",
    "                                    max_depth=24,\n",
    "                                    min_samples_leaf=9)\n",
    "model_grid.fit(X1_train_new, Y1_train_new)\n",
    "y_pred_grid = model.predict(X1_test_new)\n",
    "print(classification_report(y_pred_grid, Y1_test_new))"
   ]
  },
  {
   "cell_type": "code",
   "execution_count": 27,
   "id": "42743c68",
   "metadata": {},
   "outputs": [
    {
     "name": "stdout",
     "output_type": "stream",
     "text": [
      "Accuracy Score is 0.792498\n"
     ]
    }
   ],
   "source": [
    "print('Accuracy Score is {:.7}'.format(accuracy_score(Y1_test_new, y_pred_grid)))\n"
   ]
  },
  {
   "cell_type": "code",
   "execution_count": 28,
   "id": "8e723958",
   "metadata": {},
   "outputs": [
    {
     "data": {
      "text/plain": [
       "array([0, 0, 0, ..., 0, 1, 0])"
      ]
     },
     "execution_count": 28,
     "metadata": {},
     "output_type": "execute_result"
    }
   ],
   "source": [
    "y_pred_grid"
   ]
  },
  {
   "cell_type": "code",
   "execution_count": 29,
   "id": "0f2d8ac4",
   "metadata": {},
   "outputs": [
    {
     "data": {
      "text/plain": [
       "array([0, 0, 0, ..., 0, 1, 0])"
      ]
     },
     "execution_count": 29,
     "metadata": {},
     "output_type": "execute_result"
    }
   ],
   "source": [
    "Y1_predict "
   ]
  },
  {
   "cell_type": "code",
   "execution_count": 30,
   "id": "230359aa",
   "metadata": {},
   "outputs": [
    {
     "data": {
      "text/plain": [
       "array([0, 0, 0, ..., 0, 0, 0])"
      ]
     },
     "execution_count": 30,
     "metadata": {},
     "output_type": "execute_result"
    }
   ],
   "source": [
    "Y1_predict - y_pred_grid"
   ]
  },
  {
   "cell_type": "code",
   "execution_count": 31,
   "id": "f48a10a1",
   "metadata": {},
   "outputs": [
    {
     "data": {
      "text/plain": [
       "(5012,)"
      ]
     },
     "execution_count": 31,
     "metadata": {},
     "output_type": "execute_result"
    }
   ],
   "source": [
    "y_pred_grid.shape"
   ]
  },
  {
   "cell_type": "code",
   "execution_count": 32,
   "id": "8bc0c9a2",
   "metadata": {},
   "outputs": [
    {
     "data": {
      "text/plain": [
       "(5012, 1)"
      ]
     },
     "execution_count": 32,
     "metadata": {},
     "output_type": "execute_result"
    }
   ],
   "source": [
    "Y1_test_new.shape"
   ]
  },
  {
   "cell_type": "code",
   "execution_count": 33,
   "id": "d44d202f",
   "metadata": {},
   "outputs": [
    {
     "data": {
      "image/png": "[encoded data removed]",
      "text/plain": [
       "<Figure size 432x288 with 2 Axes>"
      ]
     },
     "metadata": {
      "needs_background": "light"
     },
     "output_type": "display_data"
    },
    {
     "name": "stdout",
     "output_type": "stream",
     "text": [
      "Accuracy Score is 0.5111732\n",
      "          0         1\n",
      "0  0.718675  0.281325\n",
      "1  0.696329  0.303671\n"
     ]
    }
   ],
   "source": [
    "from sklearn.linear_model import LogisticRegression\n",
    "\n",
    "model = LogisticRegression(C=0.8,\n",
    "                           random_state=0,\n",
    "                           solver='lbfgs')\n",
    "\n",
    "\n",
    "model.fit(X1_train_new, Y1_train_new)\n",
    "Y1_predict = model.predict(X1_test_new)\n",
    "\n",
    "cm3a = confusion_matrix(Y1_test_new,Y1_predict)\n",
    "sum_mat3 = np.sum(cm3a, axis=1)\n",
    "cm3 = cm3a/sum_mat3[0]\n",
    "sns.heatmap(cm3, annot=True, cmap=\"Blues\")\n",
    "\n",
    "plt.xlabel(\"Predicted Label\")\n",
    "plt.ylabel(\"True Label\")\n",
    "plt.title(\"Normalized Confusion Matrix of Logsitic Regression\")\n",
    "plt.savefig('Image_7.png',facecolor='w')\n",
    "plt.show()\n",
    "\n",
    "print('Accuracy Score is {:.7}'.format(accuracy_score(Y1_test_new, Y1_predict)))\n",
    "print(pd.DataFrame(cm3))\n",
    "\n"
   ]
  },
  {
   "cell_type": "markdown",
   "id": "b0fd6543",
   "metadata": {},
   "source": [
    "\n",
    "Based on the accuracy score, the Decision tree model is the most accurate"
   ]
  },
  {
   "cell_type": "code",
   "execution_count": null,
   "id": "46f8cd65",
   "metadata": {},
   "outputs": [],
   "source": [
    "# plot_confusion_matrix is  used to output the confusion matrix which is a table used in machine learning tasks\n",
    "# to evaluate where errors were made in the model. The rows represent the classes that the results should have \n",
    "# been, and the columns represent the predictions we made. The table is helpful to see which predictions are wrong.\n",
    "\n",
    "## We used another approach to plot it, but the following function could also have been used.\n",
    "\n",
    "# def plot_confusion_matrix(cm, classes,\n",
    "#                           normalize=False,\n",
    "#                           title='Confusion matrix',\n",
    "#                           cmap=plt.cm.Blues):\n",
    "\n",
    "#    plt.imshow(cm, interpolation='nearest', cmap=cmap)\n",
    "#   plt.title(title)\n",
    "#    plt.colorbar()\n",
    "#    tick_marks = np.arange(len(classes))\n",
    "#    plt.xticks(tick_marks, classes, rotation=45)\n",
    "#    plt.yticks(tick_marks, classes)\n",
    "\n",
    "#    if normalize:\n",
    "#        cm = cm.astype('float') / cm.sum(axis=1)[:, np.newaxis]\n",
    "#        print(\"Normalized confusion matrix\")\n",
    "#    else:\n",
    "#        print('Confusion matrix, without normalization')\n",
    "\n",
    "#    print(cm)\n",
    "\n",
    "#    fmt = '.2f' if normalize else 'd'\n",
    "#    thresh = cm.max() / 2.\n",
    "#    for i, j in itertools.product(range(cm.shape[0]), range(cm.shape[1])):\n",
    "#        plt.text(j, i, format(cm[i, j], fmt),\n",
    "#                 horizontalalignment=\"center\",\n",
    "#                 color=\"white\" if cm[i, j] > thresh else \"black\")\n",
    "\n",
    "#    plt.tight_layout()\n",
    "#    plt.ylabel('True label')\n",
    "#    plt.xlabel('Predicted label')"
   ]
  }
 ],
 "metadata": {
  "kernelspec": {
   "display_name": "Python 3",
   "language": "python",
   "name": "python3"
  }
 },
 "nbformat": 4,
 "nbformat_minor": 5
}
